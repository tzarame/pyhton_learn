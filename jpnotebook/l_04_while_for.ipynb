{
 "cells": [
  {
   "cell_type": "markdown",
   "metadata": {
    "pycharm": {
     "name": "#%% md\n"
    }
   },
   "source": [
    "# Циклы\n"
   ]
  },
  {
   "cell_type": "markdown",
   "metadata": {
    "pycharm": {
     "name": "#%% md\n"
    }
   },
   "source": [
    "**Цикл** — разновидность управляющей конструкции в высокоуровневых языках программирования,\n",
    "предназначенная для организации многократного исполнения набора инструкций.\n",
    "Последовательность инструкций, предназначенная для многократного исполнения, называется **телом цикла**.\n",
    "Единичное выполнение тела цикла называется **итерацией**.\n",
    "Выражение, определяющее, будет в очередной раз выполняться итерация, или цикл завершится, называется\n",
    "**условием выхода** или **условием окончания цикла** (либо условием продолжения в зависимости от того, как\n",
    "интерпретируется его истинность — как признак необходимости завершения или продолжения цикла).\n"
   ]
  },
  {
   "cell_type": "markdown",
   "metadata": {
    "pycharm": {
     "name": "#%% md\n"
    }
   },
   "source": [
    "### Типы циклов в Python\n",
    "В Python существует два вида циклов:\n",
    "**while** -  используется в Python для неоднократного исполнения определенной инструкции до тех пор, пока заданное условие остается истинным..\n",
    "**for** - узкоспециализированная версия цикла. Предназначен для прохода по итерируемым последовательностям.\n"
   ]
  },
  {
   "cell_type": "markdown",
   "metadata": {
    "pycharm": {
     "name": "#%% md\n"
    }
   },
   "source": [
    "### Пример использования цикла while\n",
    "Предположим, что перед вами поставили задачу вывести на экран все числа от 1 до 10. Написать 10 строк с\n",
    "функцией print() явно не самый хороший выход. Так вот, когда нужно повторить какую-то\n",
    "последовательность операторов много раз, и используются циклы.\n"
   ]
  },
  {
   "cell_type": "code",
   "execution_count": 1,
   "metadata": {
    "scrolled": true
   },
   "outputs": [
    {
     "name": "stdout",
     "output_type": "stream",
     "text": [
      "1\n",
      "3\n",
      "5\n",
      "7\n",
      "9\n",
      "End\n"
     ]
    }
   ],
   "source": [
    "number = 1\n",
    "\n",
    "while number <= 10:\n",
    "    print(number)\n",
    "    number = number + 2\n",
    "print('End')"
   ]
  },
  {
   "cell_type": "code",
   "execution_count": 2,
   "metadata": {},
   "outputs": [
    {
     "data": {
      "text/plain": [
       "11"
      ]
     },
     "execution_count": 2,
     "metadata": {},
     "output_type": "execute_result"
    }
   ],
   "source": [
    "number\n"
   ]
  },
  {
   "cell_type": "markdown",
   "metadata": {
    "pycharm": {
     "name": "#%% md\n"
    }
   },
   "source": [
    "**continue** — прерывает текущую итерацию цикла и сразу переходит к следующей."
   ]
  },
  {
   "cell_type": "code",
   "execution_count": 3,
   "metadata": {
    "scrolled": true
   },
   "outputs": [
    {
     "name": "stdout",
     "output_type": "stream",
     "text": [
      "3\n",
      "5\n",
      "7\n",
      "9\n"
     ]
    }
   ],
   "source": [
    "number = 1\n",
    "\n",
    "while number < 10:\n",
    "    number = number + 1 # До continue !!!!\n",
    "    if not number % 2: #  number % 2 == 0\n",
    "        continue\n",
    "    print(number)\n",
    "#     number = number + 1"
   ]
  },
  {
   "cell_type": "code",
   "execution_count": 4,
   "metadata": {},
   "outputs": [
    {
     "data": {
      "text/plain": [
       "False"
      ]
     },
     "execution_count": 4,
     "metadata": {},
     "output_type": "execute_result"
    }
   ],
   "source": [
    "bool([])"
   ]
  },
  {
   "cell_type": "code",
   "execution_count": 5,
   "metadata": {},
   "outputs": [
    {
     "name": "stdout",
     "output_type": "stream",
     "text": [
      "4 --- 1\n",
      "3 --- 3\n",
      "2 --- 5\n",
      "1 --- 6\n",
      "OK\n"
     ]
    }
   ],
   "source": [
    "lst = [1, 3, 5, 6]\n",
    "\n",
    "while lst:\n",
    "    print(len(lst), '---', lst.pop(0))\n",
    "print('OK')"
   ]
  },
  {
   "cell_type": "markdown",
   "metadata": {
    "pycharm": {
     "name": "#%% md\n"
    }
   },
   "source": [
    "**break** — прекращает выполнение цикла."
   ]
  },
  {
   "cell_type": "code",
   "execution_count": 6,
   "metadata": {},
   "outputs": [
    {
     "name": "stdout",
     "output_type": "stream",
     "text": [
      "1\n",
      "2\n",
      "3\n",
      "4\n",
      "End\n"
     ]
    }
   ],
   "source": [
    "number = 0\n",
    "\n",
    "while number <= 10:\n",
    "    number = number + 1\n",
    "    if number == 5:\n",
    "        break\n",
    "    print(number)\n",
    "print('End')"
   ]
  },
  {
   "cell_type": "code",
   "execution_count": 7,
   "metadata": {},
   "outputs": [
    {
     "name": "stdout",
     "output_type": "stream",
     "text": [
      "1\n",
      "2\n",
      "3\n",
      "4\n",
      "5\n",
      "6\n",
      "7\n",
      "8\n",
      "9\n",
      "10\n"
     ]
    }
   ],
   "source": [
    "number = 0\n",
    "\n",
    "while True: # Если есть break то можно делать и так :)\n",
    "    number += 1\n",
    "    if number == 11:\n",
    "        break\n",
    "    print(number)"
   ]
  },
  {
   "cell_type": "code",
   "execution_count": 8,
   "metadata": {
    "pycharm": {
     "name": "#%%\n"
    }
   },
   "outputs": [
    {
     "name": "stdout",
     "output_type": "stream",
     "text": [
      "1\n",
      "2\n",
      "3\n",
      "4\n",
      "6\n",
      "7\n",
      "8\n",
      "9\n",
      "10\n"
     ]
    }
   ],
   "source": [
    "number = 0\n",
    "while True: # continue и break в одном цикле\n",
    "    number = number + 1\n",
    "    if number == 5:\n",
    "        continue\n",
    "    if number == 11:\n",
    "        break\n",
    "    print(number)\n"
   ]
  },
  {
   "cell_type": "markdown",
   "metadata": {
    "pycharm": {
     "name": "#%% md\n"
    }
   },
   "source": [
    "### Дополнение блока while оператором else\n",
    "Как и условный оператор **if**, так и цикл **while** можно дополнить\n",
    "блоком **else**. Принцип работы такого оператора довольно интересен. Блок **else** выполнится лишь в том случае, если цикл\n",
    "завершится нормально. Если же цикл будет прерван с помощью оператора **break** или еще каким образом, то этот блок будет\n",
    "пропущен."
   ]
  },
  {
   "cell_type": "code",
   "execution_count": 9,
   "metadata": {},
   "outputs": [
    {
     "name": "stdout",
     "output_type": "stream",
     "text": [
      "input positive number 10\n",
      "It is not a prime number\n"
     ]
    }
   ],
   "source": [
    "# Проверка простоты числа с помощью цикла\n",
    "number = int(input(\"input positive number \"))\n",
    "i = 2\n",
    "while i < number: # number // 2 + 1\n",
    "#     print(i)\n",
    "    if number % i == 0:\n",
    "        print(\"It is not a prime number\")\n",
    "        break\n",
    "    i = i + 1\n",
    "else: # выполнится, только если break в цикле не будет вызван.\n",
    "    print(\"It is a prime number\")"
   ]
  },
  {
   "cell_type": "markdown",
   "metadata": {
    "pycharm": {
     "name": "#%% md\n"
    }
   },
   "source": [
    "### Использование вложенных циклов while\n",
    "Как и условный оператор **if**, так и цикл **while** можно вложить внутрь другого цикла **while**. Получится цикл в цикле."
   ]
  },
  {
   "cell_type": "code",
   "execution_count": 10,
   "metadata": {},
   "outputs": [
    {
     "name": "stdout",
     "output_type": "stream",
     "text": [
      "Input a 10\n",
      "Input b 10\n",
      "**********\n",
      "**********\n",
      "**********\n",
      "**********\n",
      "**********\n",
      "**********\n",
      "**********\n",
      "**********\n",
      "**********\n",
      "**********\n"
     ]
    }
   ],
   "source": [
    "# выведет на экран прямоугольник из символов «*».\n",
    "a = int(input(\"Input a \"))\n",
    "b = int(input(\"Input b \"))\n",
    "i = 0\n",
    "while i < a: # Высота\n",
    "    j = 0\n",
    "    while j < b: # ширина\n",
    "        print(\"*\", end='') # строка не будет переведена\n",
    "        j += 1\n",
    "    print()\n",
    "    i += 1"
   ]
  },
  {
   "cell_type": "code",
   "execution_count": 11,
   "metadata": {},
   "outputs": [
    {
     "name": "stdout",
     "output_type": "stream",
     "text": [
      "ok\n",
      "ok\n"
     ]
    }
   ],
   "source": [
    "print('ok',  end='\\n')\n",
    "print('ok')"
   ]
  },
  {
   "cell_type": "code",
   "execution_count": 12,
   "metadata": {},
   "outputs": [
    {
     "name": "stdout",
     "output_type": "stream",
     "text": [
      "ok\n",
      "ok\n",
      "ok\n"
     ]
    }
   ],
   "source": [
    "print('ok')\n",
    "print('ok')\n",
    "print('ok')"
   ]
  },
  {
   "cell_type": "markdown",
   "metadata": {
    "pycharm": {
     "name": "#%% md\n"
    }
   },
   "source": [
    "### Дополнительный параметр для функции print\n",
    "Функция **print** может принимать несколько необязательных параметров - *end* и *sep*.\n"
   ]
  },
  {
   "cell_type": "code",
   "execution_count": 13,
   "metadata": {
    "scrolled": true
   },
   "outputs": [
    {
     "name": "stdout",
     "output_type": "stream",
     "text": [
      "1 6 9\n"
     ]
    }
   ],
   "source": [
    "print(1,6,9)"
   ]
  },
  {
   "cell_type": "code",
   "execution_count": 14,
   "metadata": {
    "scrolled": false
   },
   "outputs": [
    {
     "name": "stdout",
     "output_type": "stream",
     "text": [
      "1 6 9\n",
      "4-8-1\n"
     ]
    }
   ],
   "source": [
    "print(1, 6, 9, sep=' ', end='\\n')\n",
    "print(4, 8, 1, sep='-')"
   ]
  },
  {
   "cell_type": "markdown",
   "metadata": {
    "pycharm": {
     "name": "#%% md\n"
    }
   },
   "source": [
    "### Цикл for в Python\n",
    "\n",
    "**for** *`имя_итерационной_переменной`* **in** *`имя_списка`*:\n",
    "\n",
    "Операторы для работы с итерационной_переменной На каждой итерации такого цикла итерационная\n",
    "переменная принимает значение текущего элемента списка и будет сдвинута на следующий элемент во время следующей\n",
    "итерации. Таким образом этот цикл по очереди переберет все элементы списка.\n",
    " Перевести конструкцию с языка программирования на человеческий можно так:\n",
    " для каждого элемента в списке делать следующее (то, что в теле цикла).\n"
   ]
  },
  {
   "cell_type": "code",
   "execution_count": 1,
   "metadata": {},
   "outputs": [
    {
     "name": "stdout",
     "output_type": "stream",
     "text": [
      "4\n",
      "6\n",
      "8\n",
      "7\n"
     ]
    }
   ],
   "source": [
    "# Доступ к элементам списка с помощью цикла while\n",
    "lst = [4, 6, 8, 7]\n",
    "i = 0\n",
    "while i < len(lst):\n",
    "    l = lst[i]\n",
    "    print(l)\n",
    "    i += 1"
   ]
  },
  {
   "cell_type": "code",
   "execution_count": 2,
   "metadata": {},
   "outputs": [
    {
     "name": "stdout",
     "output_type": "stream",
     "text": [
      "4\n",
      "6\n",
      "8\n",
      "7\n"
     ]
    }
   ],
   "source": [
    "# То же самое, но с помощью цикла for\n",
    "for l in lst:\n",
    "    print(l)"
   ]
  },
  {
   "cell_type": "code",
   "execution_count": 3,
   "metadata": {},
   "outputs": [
    {
     "name": "stdout",
     "output_type": "stream",
     "text": [
      "[4, 6, 8, 7]\n",
      "9\n",
      "11\n",
      "13\n",
      "12\n"
     ]
    }
   ],
   "source": [
    "print(lst)\n",
    "for el in lst:\n",
    "    el = el + 5\n",
    "    print(el)"
   ]
  },
  {
   "cell_type": "code",
   "execution_count": 4,
   "metadata": {},
   "outputs": [
    {
     "name": "stdout",
     "output_type": "stream",
     "text": [
      "[4, 6, 8, 7]\n"
     ]
    }
   ],
   "source": [
    "print(lst)"
   ]
  },
  {
   "cell_type": "code",
   "execution_count": 5,
   "metadata": {
    "scrolled": false
   },
   "outputs": [
    {
     "name": "stdout",
     "output_type": "stream",
     "text": [
      "4\n",
      "6\n",
      "8\n",
      "7\n"
     ]
    }
   ],
   "source": [
    "i = 0\n",
    "for el in lst:\n",
    "    lst[i] = el + 5\n",
    "    print(el)\n",
    "    i += 1"
   ]
  },
  {
   "cell_type": "code",
   "execution_count": 6,
   "metadata": {},
   "outputs": [
    {
     "name": "stdout",
     "output_type": "stream",
     "text": [
      "[9, 11, 13, 12]\n"
     ]
    }
   ],
   "source": [
    "print(lst)"
   ]
  },
  {
   "cell_type": "code",
   "execution_count": 7,
   "metadata": {},
   "outputs": [],
   "source": [
    "lst = [4, 6, 8, 7]\n",
    "i = 0\n",
    "while i < len(lst):\n",
    "    lst[i] = lst[i] + 5\n",
    "    i += 1"
   ]
  },
  {
   "cell_type": "code",
   "execution_count": 8,
   "metadata": {},
   "outputs": [
    {
     "name": "stdout",
     "output_type": "stream",
     "text": [
      "[9, 11, 13, 12]\n"
     ]
    }
   ],
   "source": [
    "print(lst)\n"
   ]
  },
  {
   "cell_type": "code",
   "execution_count": 9,
   "metadata": {
    "scrolled": false
   },
   "outputs": [
    {
     "name": "stdout",
     "output_type": "stream",
     "text": [
      "0 4\n",
      "1 6\n",
      "2 8\n",
      "3 7\n"
     ]
    }
   ],
   "source": [
    "lst = [4, 6, 8, 7]\n",
    "for i, el in enumerate(lst):\n",
    "    print(i, end=' ')\n",
    "    lst[i] = el + 5\n",
    "    print(el)"
   ]
  },
  {
   "cell_type": "code",
   "execution_count": 10,
   "metadata": {},
   "outputs": [
    {
     "name": "stdout",
     "output_type": "stream",
     "text": [
      "[9, 11, 13, 12]\n"
     ]
    }
   ],
   "source": [
    "print(lst)"
   ]
  },
  {
   "cell_type": "markdown",
   "metadata": {
    "pycharm": {
     "name": "#%% md\n"
    }
   },
   "source": [
    "### Генератор числовой последовательности *range*"
   ]
  },
  {
   "cell_type": "code",
   "execution_count": 11,
   "metadata": {},
   "outputs": [
    {
     "data": {
      "text/plain": [
       "range(0, 10)"
      ]
     },
     "execution_count": 11,
     "metadata": {},
     "output_type": "execute_result"
    }
   ],
   "source": [
    "range(10)\n"
   ]
  },
  {
   "cell_type": "code",
   "execution_count": 12,
   "metadata": {},
   "outputs": [
    {
     "name": "stdout",
     "output_type": "stream",
     "text": [
      "<class 'range'>\n"
     ]
    }
   ],
   "source": [
    "print(type(range(10)))"
   ]
  },
  {
   "cell_type": "code",
   "execution_count": 13,
   "metadata": {
    "scrolled": true
   },
   "outputs": [
    {
     "data": {
      "text/plain": [
       "[0, 1, 2, 3, 4, 5, 6, 7, 8, 9]"
      ]
     },
     "execution_count": 13,
     "metadata": {},
     "output_type": "execute_result"
    }
   ],
   "source": [
    "list(range(10))"
   ]
  },
  {
   "cell_type": "code",
   "execution_count": 14,
   "metadata": {},
   "outputs": [
    {
     "data": {
      "text/plain": [
       "48"
      ]
     },
     "execution_count": 14,
     "metadata": {},
     "output_type": "execute_result"
    }
   ],
   "source": [
    "import sys\n",
    "sys.getsizeof(range(10000000))"
   ]
  },
  {
   "cell_type": "code",
   "execution_count": 15,
   "metadata": {},
   "outputs": [
    {
     "data": {
      "text/plain": [
       "80000056"
      ]
     },
     "execution_count": 15,
     "metadata": {},
     "output_type": "execute_result"
    }
   ],
   "source": [
    "sys.getsizeof(list(range(10_000_000)))"
   ]
  },
  {
   "cell_type": "code",
   "execution_count": 16,
   "metadata": {},
   "outputs": [
    {
     "data": {
      "text/plain": [
       "[9, 11, 13, 12]"
      ]
     },
     "execution_count": 16,
     "metadata": {},
     "output_type": "execute_result"
    }
   ],
   "source": [
    "lst = [4, 6, 8, 7]\n",
    "for i in range(len(lst)):\n",
    "    lst[i] = lst[i] + 5\n",
    "lst"
   ]
  },
  {
   "cell_type": "code",
   "execution_count": 17,
   "metadata": {},
   "outputs": [
    {
     "data": {
      "text/plain": [
       "[3, 4, 5, 6, 7, 8, 9]"
      ]
     },
     "execution_count": 17,
     "metadata": {},
     "output_type": "execute_result"
    }
   ],
   "source": [
    "list(range(3, 10))"
   ]
  },
  {
   "cell_type": "code",
   "execution_count": 18,
   "metadata": {
    "scrolled": true
   },
   "outputs": [
    {
     "data": {
      "text/plain": [
       "[2, 4, 6, 8]"
      ]
     },
     "execution_count": 18,
     "metadata": {},
     "output_type": "execute_result"
    }
   ],
   "source": [
    "list(range(2, 10, 2))"
   ]
  },
  {
   "cell_type": "code",
   "execution_count": 19,
   "metadata": {},
   "outputs": [
    {
     "data": {
      "text/plain": [
       "[-13, -12, -11]"
      ]
     },
     "execution_count": 19,
     "metadata": {},
     "output_type": "execute_result"
    }
   ],
   "source": [
    "list(range(-13, -10))"
   ]
  },
  {
   "cell_type": "code",
   "execution_count": 20,
   "metadata": {},
   "outputs": [
    {
     "data": {
      "text/plain": [
       "[0, -1, -2, -3, -4, -5, -6, -7, -8, -9]"
      ]
     },
     "execution_count": 20,
     "metadata": {},
     "output_type": "execute_result"
    }
   ],
   "source": [
    "list(range(0, -10, -1))"
   ]
  },
  {
   "cell_type": "code",
   "execution_count": 21,
   "metadata": {},
   "outputs": [
    {
     "ename": "TypeError",
     "evalue": "'float' object cannot be interpreted as an integer",
     "output_type": "error",
     "traceback": [
      "\u001b[1;31m---------------------------------------------------------------------------\u001b[0m",
      "\u001b[1;31mTypeError\u001b[0m                                 Traceback (most recent call last)",
      "Cell \u001b[1;32mIn[21], line 1\u001b[0m\n\u001b[1;32m----> 1\u001b[0m \u001b[38;5;28mlist\u001b[39m(\u001b[38;5;28;43mrange\u001b[39;49m\u001b[43m(\u001b[49m\u001b[38;5;241;43m0.5\u001b[39;49m\u001b[43m,\u001b[49m\u001b[43m \u001b[49m\u001b[38;5;241;43m10.5\u001b[39;49m\u001b[43m)\u001b[49m) \u001b[38;5;66;03m# TypeError: 'float' object cannot be interpreted as an integer\u001b[39;00m\n",
      "\u001b[1;31mTypeError\u001b[0m: 'float' object cannot be interpreted as an integer"
     ]
    }
   ],
   "source": [
    "list(range(0.5, 10.5)) # TypeError: 'float' object cannot be interpreted as an integer"
   ]
  },
  {
   "cell_type": "markdown",
   "metadata": {
    "pycharm": {
     "name": "#%% md\n"
    }
   },
   "source": [
    "#### заполнить список десятью случайными числами от 1 до 100 и посчитать их сумму."
   ]
  },
  {
   "cell_type": "code",
   "execution_count": 22,
   "metadata": {},
   "outputs": [
    {
     "name": "stdout",
     "output_type": "stream",
     "text": [
      "[22, 40, 99, 61, 1, 28, 86, 72, 30, 88, 31, 70]\n",
      "628\n"
     ]
    }
   ],
   "source": [
    "import random\n",
    "my_list = []\n",
    "\n",
    "for i in range(random.randint(6, 15)):\n",
    "    my_list.append(random.randint(1, 100))\n",
    "print(my_list)\n",
    "\n",
    "summa = 0\n",
    "for element in my_list:\n",
    "    summa += element\n",
    "print(summa)"
   ]
  },
  {
   "cell_type": "code",
   "execution_count": 23,
   "metadata": {
    "scrolled": true
   },
   "outputs": [
    {
     "name": "stdout",
     "output_type": "stream",
     "text": [
      "[81, 95, 63, 6, 49, 100, 3, 74, 53, 77]\n"
     ]
    }
   ],
   "source": [
    "my_list = [random.randint(1, 100) for i in range(random.randint(6, 15))]\n",
    "print(my_list)"
   ]
  },
  {
   "cell_type": "code",
   "execution_count": 24,
   "metadata": {},
   "outputs": [
    {
     "name": "stdout",
     "output_type": "stream",
     "text": [
      "601\n"
     ]
    }
   ],
   "source": [
    "print(sum(my_list))"
   ]
  },
  {
   "cell_type": "code",
   "execution_count": null,
   "metadata": {},
   "outputs": [],
   "source": [
    "lst = [88, 13, 6, 79, 1, 19, 79, 17, 1, 70]\n",
    "y = 10\n",
    "# my_list = [i + random.randint(1,100) for i in lst]\n",
    "my_list = [i + y for i in lst]\n",
    "print(my_list)\n",
    "print(sum(my_list))"
   ]
  },
  {
   "cell_type": "markdown",
   "metadata": {
    "pycharm": {
     "name": "#%% md\n"
    }
   },
   "source": [
    "#### Модуль random\n",
    "Несколько основных методов"
   ]
  },
  {
   "cell_type": "code",
   "execution_count": null,
   "metadata": {
    "pycharm": {
     "name": "#%%\n"
    },
    "scrolled": false
   },
   "outputs": [],
   "source": [
    "print(\"Вывод случайного числа от 0 до 1\")\n",
    "print(random.random())"
   ]
  },
  {
   "cell_type": "code",
   "execution_count": null,
   "metadata": {
    "pycharm": {
     "name": "#%%\n"
    },
    "scrolled": true
   },
   "outputs": [],
   "source": [
    "print(\"Вывод случайного целого числа randint\")\n",
    "print( random.randint(0, 100))\n",
    "\n",
    "print(\"Вывод случайного целого числа randrange\")\n",
    "print(random.randrange(0, 500, 2))\n"
   ]
  },
  {
   "cell_type": "code",
   "execution_count": null,
   "metadata": {
    "pycharm": {
     "name": "#%%\n"
    },
    "scrolled": true
   },
   "outputs": [],
   "source": [
    "city_list = ['New York', 'Los Angeles', 'Chicago', 'Houston', 'Philadelphia']\n",
    "print(\"Выбор случайного города из списка \")\n",
    "print(random.choice(city_list))\n",
    "\n",
    "lst = [55, 66, 77, 88, 99]\n",
    "print(\"random.choice используется для выбора случайного элемента из списка - \")\n",
    "print(random.choice(lst))"
   ]
  },
  {
   "cell_type": "code",
   "execution_count": null,
   "metadata": {
    "pycharm": {
     "name": "#%%\n"
    },
    "scrolled": true
   },
   "outputs": [],
   "source": [
    "lst = [2, 5, 8, 9, 12, 55, 66, 77, 88, 99]\n",
    "\n",
    "random.shuffle(lst)\n",
    "print (\"Вывод перемешанного списка \", lst)"
   ]
  },
  {
   "cell_type": "code",
   "execution_count": null,
   "metadata": {},
   "outputs": [],
   "source": [
    "random.shuffle(range(15)) # TypeError"
   ]
  },
  {
   "cell_type": "code",
   "execution_count": null,
   "metadata": {},
   "outputs": [],
   "source": [
    "# Пример создания и заполнения списка списков\n",
    "import random\n",
    "\n",
    "matrix = []\n",
    "for i in range(5):\n",
    "    col = []\n",
    "    for j in range(4):\n",
    "        col.append(random.randint(0,100))\n",
    "    matrix.append(col)\n",
    "print(matrix)"
   ]
  },
  {
   "cell_type": "code",
   "execution_count": null,
   "metadata": {},
   "outputs": [],
   "source": [
    "for lst in matrix:\n",
    "    print(lst)"
   ]
  },
  {
   "cell_type": "code",
   "execution_count": null,
   "metadata": {},
   "outputs": [],
   "source": [
    "matrix = [[random.randint(0, 100) for i in range(4)] for j in range(5)]\n",
    "print(matrix)\n"
   ]
  },
  {
   "cell_type": "code",
   "execution_count": null,
   "metadata": {
    "scrolled": false
   },
   "outputs": [],
   "source": [
    "# Плохая идея в цикле проходить по элементам списка и изменять его!\n",
    "lst = [56, 6, 8, 7]\n",
    "for i in range(len(lst)):\n",
    "    print(i , end=' ')\n",
    "    print(' -- ' , lst[i])\n",
    "    if lst[i] == 6:\n",
    "        _ = lst.pop(i)\n",
    "    print(lst[i])\n",
    "print(lst)"
   ]
  },
  {
   "cell_type": "code",
   "execution_count": null,
   "metadata": {},
   "outputs": [],
   "source": [
    "# Ошибки нет\n",
    "lst = [56, 6, 8, 7]\n",
    "for i in lst:\n",
    "    if i == 6:\n",
    "        lst.remove(6)\n",
    "    print(i)"
   ]
  },
  {
   "cell_type": "code",
   "execution_count": 15,
   "metadata": {},
   "outputs": [
    {
     "name": "stdout",
     "output_type": "stream",
     "text": [
      "56 6 8 7 \n",
      "57 7 9 8 \n",
      "58 8 10 9 \n",
      "59 9 11 10 \n",
      "60 10 12 11 \n",
      "61 11 13 12 \n"
     ]
    }
   ],
   "source": [
    "# while and for\n",
    "i = 0\n",
    "lst = [56, 6, 8, 7]\n",
    "while i < 6:\n",
    "    for e in lst:\n",
    "        print(e + i, end=' ')\n",
    "    print()\n",
    "    i += 1\n",
    "    "
   ]
  },
  {
   "cell_type": "code",
   "execution_count": null,
   "metadata": {},
   "outputs": [],
   "source": []
  }
 ],
 "metadata": {
  "kernelspec": {
   "display_name": "Python 3 (ipykernel)",
   "language": "python",
   "name": "python3"
  },
  "language_info": {
   "codemirror_mode": {
    "name": "ipython",
    "version": 3
   },
   "file_extension": ".py",
   "mimetype": "text/x-python",
   "name": "python",
   "nbconvert_exporter": "python",
   "pygments_lexer": "ipython3",
   "version": "3.11.3"
  }
 },
 "nbformat": 4,
 "nbformat_minor": 2
}
