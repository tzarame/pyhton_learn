{
 "cells": [
  {
   "cell_type": "markdown",
   "metadata": {
    "pycharm": {
     "name": "#%%\n"
    }
   },
   "source": [
    "## Условные операторы"
   ]
  },
  {
   "cell_type": "code",
   "execution_count": 1,
   "metadata": {
    "pycharm": {
     "name": "#%%\n"
    }
   },
   "outputs": [
    {
     "data": {
      "text/html": [
       "<style>\n",
       "table {float:left}\n",
       "table th, table td {text-align:center !important; font-size: 150%;}\n",
       "</style>\n"
      ],
      "text/plain": [
       "<IPython.core.display.HTML object>"
      ]
     },
     "metadata": {},
     "output_type": "display_data"
    }
   ],
   "source": [
    "%%html\n",
    "<style>\n",
    "table {float:left}\n",
    "table th, table td {text-align:center !important; font-size: 150%;}\n",
    "</style>"
   ]
  },
  {
   "cell_type": "markdown",
   "metadata": {
    "pycharm": {
     "name": "#%% md\n"
    }
   },
   "source": [
    "### Операторы сравнения\n",
    "|Оператор |Описание|\n",
    "| :---: | :---: |\n",
    "|**x == y**|Равно|\n",
    "|**x != y** | Не равно|\n",
    "|**x > y**| больше |\n",
    "|**x < y** |  меньше |\n",
    "|**x >= y** | больше или равно |\n",
    "|**x <= y**|  меньше или равно |"
   ]
  },
  {
   "cell_type": "code",
   "execution_count": 2,
   "metadata": {},
   "outputs": [
    {
     "data": {
      "text/plain": [
       "False"
      ]
     },
     "execution_count": 2,
     "metadata": {},
     "output_type": "execute_result"
    }
   ],
   "source": [
    "2 > 3"
   ]
  },
  {
   "cell_type": "code",
   "execution_count": null,
   "metadata": {},
   "outputs": [],
   "source": [
    "a = 4 < 5\n",
    "print(a)"
   ]
  },
  {
   "cell_type": "code",
   "execution_count": null,
   "metadata": {},
   "outputs": [],
   "source": [
    "id(True)"
   ]
  },
  {
   "cell_type": "code",
   "execution_count": null,
   "metadata": {},
   "outputs": [],
   "source": [
    "id(1)"
   ]
  },
  {
   "cell_type": "code",
   "execution_count": null,
   "metadata": {},
   "outputs": [],
   "source": [
    "id(False)\n"
   ]
  },
  {
   "cell_type": "code",
   "execution_count": null,
   "metadata": {},
   "outputs": [],
   "source": [
    "print(3 == 5)"
   ]
  },
  {
   "cell_type": "code",
   "execution_count": null,
   "metadata": {},
   "outputs": [],
   "source": [
    "print(3 != 5)"
   ]
  },
  {
   "cell_type": "code",
   "execution_count": null,
   "metadata": {},
   "outputs": [],
   "source": [
    "bool(0)\n"
   ]
  },
  {
   "cell_type": "code",
   "execution_count": null,
   "metadata": {
    "scrolled": false
   },
   "outputs": [],
   "source": [
    "bool('')"
   ]
  },
  {
   "cell_type": "code",
   "execution_count": null,
   "metadata": {},
   "outputs": [],
   "source": [
    "x = None\n",
    "\n",
    "# x = 0"
   ]
  },
  {
   "cell_type": "code",
   "execution_count": null,
   "metadata": {
    "scrolled": false
   },
   "outputs": [],
   "source": [
    "bool(x)\n"
   ]
  },
  {
   "cell_type": "code",
   "execution_count": null,
   "metadata": {},
   "outputs": [],
   "source": [
    "x is None"
   ]
  },
  {
   "cell_type": "code",
   "execution_count": null,
   "metadata": {},
   "outputs": [],
   "source": [
    "bool(-1)"
   ]
  },
  {
   "cell_type": "code",
   "execution_count": null,
   "metadata": {},
   "outputs": [],
   "source": [
    "int(True)"
   ]
  },
  {
   "cell_type": "code",
   "execution_count": null,
   "metadata": {},
   "outputs": [],
   "source": [
    "int(False)"
   ]
  },
  {
   "cell_type": "code",
   "execution_count": null,
   "metadata": {},
   "outputs": [],
   "source": [
    "print(True + True + True)"
   ]
  },
  {
   "cell_type": "markdown",
   "metadata": {
    "pycharm": {
     "name": "#%% md\n"
    }
   },
   "source": [
    "**Условный оператор** - оператор **if**, конструкция языка программирования,\n",
    "обеспечивающая выполнение определенной команды (набора команд) только при условии\n",
    "истинности некоторого логического выражения, либо выполнение одной из нескольких команд (наборов команд) в\n",
    "зависимости от значения некоторого выражения.\n",
    "**True** — условие правдиво с точки зрения математики.\n",
    "**False** — с точки зрения математики условие ложно.\n",
    "Если логическое условие вернет True, то блок операторов, следующий за двоеточием, выполнится.\n"
   ]
  },
  {
   "cell_type": "code",
   "execution_count": null,
   "metadata": {
    "pycharm": {
     "name": "#%%\n"
    }
   },
   "outputs": [],
   "source": [
    "orange_price = 17.5\n",
    "my_money = 10\n",
    "\n",
    "if my_money > orange_price:\n",
    "    print(\"I bay orange\")\n",
    "    print(\"I bay orange\")\n",
    "    print(\"I bay orange\")\n",
    "    print(\"I bay orange\")\n",
    "print(\"The end\")"
   ]
  },
  {
   "cell_type": "markdown",
   "metadata": {
    "pycharm": {
     "name": "#%% md\n"
    }
   },
   "source": [
    "#### О важности четырех пробелов в Python\n",
    "В отличие от других языков разработки, в Python, для описания логического блока используются отступы в виде\n",
    "четырех пробелов. Т.е. код, отстоящий от начала строки на одинаковое количество пробелов, принадлежит одному и\n",
    "тому же логическому блоку."
   ]
  },
  {
   "cell_type": "markdown",
   "metadata": {
    "pycharm": {
     "name": "#%% md\n"
    }
   },
   "source": [
    "### Оператор if с блоком else\n",
    "Если возникает необходимость выполнить один блок операторов, когда условие истинно, и другой блок операторов\n",
    "когда оно ложно, то можно оператор if дополнить блоком **else**.\n"
   ]
  },
  {
   "cell_type": "code",
   "execution_count": null,
   "metadata": {},
   "outputs": [],
   "source": [
    "orange_price = 7.5\n",
    "my_money = 20\n",
    "\n",
    "if my_money > orange_price:\n",
    "    print(\"I bay orange\")\n",
    "else:\n",
    "    print(\"I bay apple\")\n",
    "print(\"The end\")"
   ]
  },
  {
   "cell_type": "markdown",
   "metadata": {
    "pycharm": {
     "name": "#%% md\n"
    }
   },
   "source": [
    "#### Внимание!\n",
    "Блок else для оператора if может быть только один. Блок else без оператора if не существует."
   ]
  },
  {
   "cell_type": "markdown",
   "metadata": {
    "pycharm": {
     "name": "#%% md\n"
    }
   },
   "source": [
    "### Использование вложенных операторов if\n"
   ]
  },
  {
   "cell_type": "code",
   "execution_count": null,
   "metadata": {},
   "outputs": [],
   "source": [
    "orange_price = 17.5\n",
    "my_money = 5\n",
    "tea_price = 9\n",
    "if my_money > orange_price:\n",
    "    print(\"I bay orange\")\n",
    "else:\n",
    "    if my_money > tea_price: # Вложенный условный оператор if со своим блоком else\n",
    "        print(\"Not orange, just tea\")\n",
    "    else:\n",
    "        print(\"I bay apple\")\n",
    "print(\"The end\")"
   ]
  },
  {
   "cell_type": "markdown",
   "metadata": {
    "pycharm": {
     "name": "#%% md\n"
    }
   },
   "source": [
    "### Оператор множественного выбора\n",
    "Иногда нужно выбрать одно условие из предложенного множества условий. В таком случае можно использовать\n",
    "оператор множественного выбора, который в Python реализован с помощью операторов **if.. elif..else**\n"
   ]
  },
  {
   "cell_type": "code",
   "execution_count": null,
   "metadata": {},
   "outputs": [],
   "source": [
    "orange_price = 15.5\n",
    "my_money = 10\n",
    "tea_price = 21\n",
    "if my_money > orange_price:\n",
    "    print(\"I bay orange\")\n",
    "elif my_money > tea_price:\n",
    "    print (\"Not orange, just tea\")\n",
    "else:\n",
    "    print(\"I bay apple\")\n",
    "print('OK')"
   ]
  },
  {
   "cell_type": "code",
   "execution_count": null,
   "metadata": {},
   "outputs": [],
   "source": [
    "day = int(input(\"Enter day please \\n\"))\n",
    "if day == 1:\n",
    "    print(\"Monday\")\n",
    "elif day == 2:\n",
    "    print(\"Tuesday\")\n",
    "elif day == 3:\n",
    "    print(\"Wednesday\")\n",
    "elif day == 4:\n",
    "    print(\"Thursday\")\n",
    "elif day == 5:\n",
    "    print(\"Friday\")\n",
    "elif day == 6:\n",
    "    print(\"Saturday\")\n",
    "elif day == 7:\n",
    "    print(\"Sunday\")\n",
    "else:\n",
    "    print('Bad data')\n"
   ]
  },
  {
   "cell_type": "code",
   "execution_count": null,
   "metadata": {
    "scrolled": true
   },
   "outputs": [],
   "source": [
    "7 % 7 #(0, 1, 2, 3, 4, 5, 6)\n"
   ]
  },
  {
   "cell_type": "code",
   "execution_count": null,
   "metadata": {},
   "outputs": [],
   "source": [
    "day = int(input(\"Enter day please \\n\"))\n",
    "day = day % 7\n",
    "if day == 1:\n",
    "    print(\"Monday\")\n",
    "elif day == 2:\n",
    "    print(\"Tuesday\")\n",
    "elif day == 3:\n",
    "    print(\"Wednesday\")\n",
    "elif day == 4:\n",
    "    print(\"Thursday\")\n",
    "elif day == 5:\n",
    "    print(\"Friday\")\n",
    "elif day == 6:\n",
    "    print(\"Saturday\")\n",
    "# elif day == 0:\n",
    "#     print(\"Sunday\")\n",
    "else:\n",
    "    print(\"Sunday\")"
   ]
  },
  {
   "cell_type": "markdown",
   "metadata": {
    "pycharm": {
     "name": "#%% md\n"
    }
   },
   "source": [
    "### Проверка принадлежности к диапазону\n"
   ]
  },
  {
   "cell_type": "code",
   "execution_count": null,
   "metadata": {
    "pycharm": {
     "name": "#%%\n"
    }
   },
   "outputs": [],
   "source": [
    "number = int(input(\"Enter number \"))\n",
    "\n",
    "if 5 < number <= 10: # number > 5 and number <= 10\n",
    "    print(\"inside (5, 10)\")\n",
    "else:\n",
    "\n",
    "    print(\"outside\")"
   ]
  },
  {
   "cell_type": "markdown",
   "metadata": {
    "pycharm": {
     "name": "#%% md\n"
    }
   },
   "source": [
    "### Использование булевых операторов в Python\n",
    "Булевы операторы в Python используются для объединения\n",
    "нескольких логических условий .\n",
    "В Python существуют следующие булевы операторы:\n",
    "\n",
    "**and** — Условный оператор И. Вернет True только в случае, если оба объединяемых условия вернут True. В остальных случаях вернет\n",
    "**False**.\n",
    "\n",
    "**or** — Условный оператор ИЛИ. Вернет False только в случае, если оба объединяемых условия вернут **False**. В остальных случаях\n",
    "вернет **True**.\n",
    "\n",
    "**not** — Условный оператор НЕ. Инвертирует результат условногооператора.\n",
    "\n"
   ]
  },
  {
   "cell_type": "markdown",
   "metadata": {
    "pycharm": {
     "name": "#%% md\n"
    }
   },
   "source": [
    "### Использование оператора and\n",
    "Булев оператор **and** используется для объединения логических условий. Результат объединения вернет True, если\n",
    "оба логических условия вернут **True**. В остальных случаях результатом будет **False**.\n",
    "\n",
    "**if Логическое_условие_1 and Логическое_условие_2:**"
   ]
  },
  {
   "cell_type": "markdown",
   "metadata": {
    "pycharm": {
     "name": "#%% md\n"
    }
   },
   "source": [
    "### операторы\n",
    "| Логическое_условие | Результат условия|Результат условия| Результат условия| Результат условия|\n",
    "| :---: | :---: |:---: | :---: | :---: |\n",
    "| `Логическое_условие_1` | True| False| False |True |\n",
    "|`Логическое_условие_2` |False |True |False| True|\n",
    "|Результат| False |False| False| True|\n",
    "\n"
   ]
  },
  {
   "cell_type": "code",
   "execution_count": null,
   "metadata": {
    "pycharm": {
     "name": "#%%\n"
    }
   },
   "outputs": [],
   "source": [
    "number = int(input(\"Enter number \"))\n",
    "\n",
    "if number > 5 and number < 10:\n",
    "    print(\"Yes\")\n",
    "else:\n",
    "    print(\"No\")"
   ]
  },
  {
   "cell_type": "markdown",
   "metadata": {
    "pycharm": {
     "name": "#%% md\n"
    }
   },
   "source": [
    "### Использование оператора or\n",
    "Булевый оператор or используется для объединения\n",
    "логических условий. Результат объединения вернет **False**, если оба логических условия вернут **False**. В остальных\n",
    "случаях результатом будет **True**.\n",
    "\n",
    "| Логическое_условие | Результат условия|Результат условия| Результат условия| Результат условия|\n",
    "| :---: | :---: |:---: | :---: | :---: |\n",
    "| `Логическое_условие_1` | True| False| False |True |\n",
    "|`Логическое_условие_2` |False |True |False| True|\n",
    "|Результат| True |True| False| True|"
   ]
  },
  {
   "cell_type": "code",
   "execution_count": null,
   "metadata": {
    "pycharm": {
     "name": "#%%\n"
    }
   },
   "outputs": [],
   "source": [
    "number_a = 17\n",
    "number_b = 21\n",
    "\n",
    "if number_b > 20 or number_a > 20:\n",
    "    print(\"Yes\")\n",
    "else:\n",
    "    print(\"No\")"
   ]
  },
  {
   "cell_type": "markdown",
   "metadata": {
    "pycharm": {
     "name": "#%% md\n"
    }
   },
   "source": [
    "### Использование оператора not\n",
    "Булевый оператор **not** используется для инвертирования логических условий.\n",
    "\n",
    "| Логическое_условие | Результат условия|Результат условия|\n",
    "| :---: | :---: |:---: |\n",
    "| `Логическое_условие_1` | True| False|\n",
    "|Результат| False |True|"
   ]
  },
  {
   "cell_type": "code",
   "execution_count": null,
   "metadata": {
    "pycharm": {
     "name": "#%%\n"
    }
   },
   "outputs": [],
   "source": [
    "number_a = 17\n",
    "\n",
    "if not number_a > 20:\n",
    "    print(\"Yes\")\n",
    "else:\n",
    "    print(\"No\")"
   ]
  },
  {
   "cell_type": "code",
   "execution_count": null,
   "metadata": {},
   "outputs": [],
   "source": [
    "x = 0\n",
    "if not bool(x): # if x == 0:\n",
    "    print('ok')"
   ]
  },
  {
   "cell_type": "code",
   "execution_count": null,
   "metadata": {},
   "outputs": [],
   "source": [
    "if not x: # x == 0\n",
    "    print('ok')"
   ]
  },
  {
   "cell_type": "code",
   "execution_count": null,
   "metadata": {},
   "outputs": [],
   "source": [
    "if not 7 % 7:\n",
    "    print('Sunday')"
   ]
  },
  {
   "cell_type": "code",
   "execution_count": null,
   "metadata": {
    "scrolled": true
   },
   "outputs": [],
   "source": [
    "if not '':\n",
    "    print(\"Yes\")"
   ]
  },
  {
   "cell_type": "markdown",
   "metadata": {
    "pycharm": {
     "name": "#%% md\n"
    }
   },
   "source": [
    "### Изменение приоритета\n"
   ]
  },
  {
   "cell_type": "code",
   "execution_count": null,
   "metadata": {
    "pycharm": {
     "name": "#%%\n"
    }
   },
   "outputs": [],
   "source": [
    "number_a = 3\n",
    "number_b = 7\n",
    "if (number_a < 5 and number_b > 0) or number_b < 5:\n",
    "    print(\"Yes\")\n",
    "else:\n",
    "    print(\"No\")"
   ]
  },
  {
   "cell_type": "code",
   "execution_count": null,
   "metadata": {
    "pycharm": {
     "name": "#%%\n"
    }
   },
   "outputs": [],
   "source": [
    "number_a = 3\n",
    "number_b = 7\n",
    "if not (number_a < 5 or number_b > 0) and number_b < 5:\n",
    "    print(\"Yes\")\n",
    "else:\n",
    "    print(\"No\")\n"
   ]
  },
  {
   "cell_type": "code",
   "execution_count": null,
   "metadata": {},
   "outputs": [],
   "source": [
    "number_a = 3\n",
    "number_b = 7\n",
    "if number_a < 5 and number_b > 0 or number_b < 5:\n",
    "    print(\"Yes\")\n",
    "else:\n",
    "    print(\"No\")"
   ]
  },
  {
   "cell_type": "markdown",
   "metadata": {
    "pycharm": {
     "name": "#%% md\n"
    }
   },
   "source": [
    "### Некоторые особенности.\n"
   ]
  },
  {
   "cell_type": "code",
   "execution_count": null,
   "metadata": {},
   "outputs": [],
   "source": [
    "a = False\n",
    "b = 0\n",
    "c = b or a\n",
    "\n",
    "print(c)\n",
    "# if bool(b):\n",
    "#     c = b\n",
    "# else:\n",
    "#     c = a"
   ]
  },
  {
   "cell_type": "code",
   "execution_count": null,
   "metadata": {},
   "outputs": [],
   "source": [
    "# Условие  if a != 0:  можно записать как -  if a:"
   ]
  },
  {
   "cell_type": "code",
   "execution_count": null,
   "metadata": {},
   "outputs": [],
   "source": [
    "# if a == 0: можно записать как - if not a:"
   ]
  },
  {
   "cell_type": "code",
   "execution_count": null,
   "metadata": {
    "pycharm": {
     "name": "#%%\n"
    }
   },
   "outputs": [],
   "source": [
    "# Полную форму записи:\n",
    "if number_b < 5:\n",
    "    number_a = 10\n",
    "else:\n",
    "    number_a = 20\n",
    "\n",
    "# Можно заменить короткой:\n",
    "number_a = 10 if number_b < 5 else 20\n",
    "print(number_a)"
   ]
  },
  {
   "cell_type": "code",
   "execution_count": null,
   "metadata": {},
   "outputs": [],
   "source": [
    "2 > 1.99"
   ]
  }
 ],
 "metadata": {
  "kernelspec": {
   "display_name": "Python 3 (ipykernel)",
   "language": "python",
   "name": "python3"
  },
  "language_info": {
   "codemirror_mode": {
    "name": "ipython",
    "version": 3
   },
   "file_extension": ".py",
   "mimetype": "text/x-python",
   "name": "python",
   "nbconvert_exporter": "python",
   "pygments_lexer": "ipython3",
   "version": "3.11.7"
  }
 },
 "nbformat": 4,
 "nbformat_minor": 2
}
