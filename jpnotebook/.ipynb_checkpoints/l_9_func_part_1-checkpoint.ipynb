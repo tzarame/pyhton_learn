{
 "cells": [
  {
   "cell_type": "markdown",
   "metadata": {},
   "source": [
    "## Функции"
   ]
  },
  {
   "cell_type": "markdown",
   "metadata": {},
   "source": [
    "Абстрактный пример из повседневной жизни - строительство частного дома.\n",
    "\n",
    "Последовательное описание работ:\n",
    "- Дизайнер слушает ваши пожелания.\n",
    "- Рисует план фундамента\n",
    "- Рисует план 1-го этажа\n",
    "- .....\n",
    "- Рисует крышу (проект готов)\n",
    "- Строители выкапывают котлован под фундамент\n",
    "- Устанавливают опалубку\n",
    "- ....\n",
    "- Заливают бетон (фундамент готов)\n",
    "- Укладывают кирпичи в стены 1-го этажа\n",
    "- .....\n",
    "- Укладывают плиты перекрытия чердака (коробка готова)\n",
    "- Устнавливают основные стропила крышы\n",
    "- .....\n",
    "- Укладывают черепицу (крыша готова)\n",
    "- Внутренние работы\n",
    "- Сантехника\n",
    "- Отопление\n",
    "- Малярные работы\n",
    "- .....\n"
   ]
  },
  {
   "cell_type": "markdown",
   "metadata": {},
   "source": [
    "Функции по видам работ:\n",
    "\n",
    "### 1. Функция по созданию проекта дома\n",
    "    - Дизайнер слушает ваши пожелания.\n",
    "    - Рисует план фундамента\n",
    "    - Рисует план 1-го этажа\n",
    "    - .....\n",
    "    - Рисует крышу\n",
    "    - Возвращает проект дома\n",
    "\n",
    "### 2. Функция строительства фундамента:\n",
    "    - Строители выкапывают котлован под фундамент\n",
    "    - Устанавливают опалубку\n",
    "    - ....\n",
    "    - Заливают бетон\n",
    "    - Возвращает положительный результат о готовности фундамента\n",
    "\n",
    "### 3. Функция возведения коробки дома:\n",
    "    - Укладывают кирпичи в стены 1-го этажа\n",
    "    - .....\n",
    "    - Укладывают плиты перекрытия чердака\n",
    "    - Возвращает положительный результат о готовности коробки\n",
    "\n",
    "### 4. Функция постройки крыши:\n",
    "    - Устнавливают основные стропила крышы\n",
    "    - .....\n",
    "    - Укладывают черепицу\n",
    "    - Возвращает положительный результат о готовности крыши\n",
    "\n",
    "### 5. Функция по сантехнике.\n",
    "\n",
    "### 6. Функция по отоплению\n",
    "\n",
    "и т.д."
   ]
  },
  {
   "cell_type": "markdown",
   "metadata": {},
   "source": [
    "Вы, как заказчик, являетесь основной функцией, которая управляет всеми этапами строительства.\n",
    "1. Основная функция, вызывает функцию по созданию проекта дома. В качестве параметров, передает ей ваши пожелания и деньги.\n",
    "\n",
    "2. Получив проекта дома, вызывает функцию для фундамента, передав в качестве аргументов проект дома и деньги.\n",
    "\n",
    "3. После готовности фундамента, вызывает функцию возведения стен. Передав в качестве аргументов проект дома и деньги.\n",
    "\n",
    "...\n",
    "\n",
    "и т.д."
   ]
  },
  {
   "cell_type": "markdown",
   "metadata": {},
   "source": [
    "### Создание функций"
   ]
  },
  {
   "cell_type": "code",
   "execution_count": 1,
   "metadata": {},
   "outputs": [
    {
     "name": "stdout",
     "output_type": "stream",
     "text": [
      "140367121150880\n",
      "<class 'function'>\n",
      "<function fun at 0x7fa9c464f3a0>\n"
     ]
    }
   ],
   "source": [
    "def fun():\n",
    "    pass\n",
    "    # ... # Ellipsis\n",
    "\n",
    "print(id(fun))\n",
    "print(type(fun))\n",
    "print(fun) # Адрес функции в шестнадцатиричном формате"
   ]
  },
  {
   "cell_type": "code",
   "execution_count": 2,
   "metadata": {},
   "outputs": [
    {
     "name": "stdout",
     "output_type": "stream",
     "text": [
      "1\n",
      "140367121151600\n"
     ]
    }
   ],
   "source": [
    "def fun():\n",
    "    return 1\n",
    "\n",
    "print(fun()) # Вызов функции на выполенение\n",
    "print(id(fun)) # Адрес функции в десятичном формате\n"
   ]
  },
  {
   "cell_type": "code",
   "execution_count": 3,
   "metadata": {},
   "outputs": [
    {
     "name": "stdout",
     "output_type": "stream",
     "text": [
      "<function fun at 0x7fa9c464f670>\n"
     ]
    }
   ],
   "source": [
    "print(fun)"
   ]
  },
  {
   "cell_type": "code",
   "execution_count": 4,
   "metadata": {},
   "outputs": [
    {
     "data": {
      "text/plain": [
       "140367121151600"
      ]
     },
     "execution_count": 4,
     "metadata": {},
     "output_type": "execute_result"
    }
   ],
   "source": [
    "int('7fa9c464f670', 16)"
   ]
  },
  {
   "cell_type": "code",
   "execution_count": 5,
   "metadata": {},
   "outputs": [
    {
     "name": "stdout",
     "output_type": "stream",
     "text": [
      "0x7fa9c464f670\n"
     ]
    }
   ],
   "source": [
    "i = id(fun)\n",
    "print(hex(i))"
   ]
  },
  {
   "cell_type": "code",
   "execution_count": 6,
   "metadata": {},
   "outputs": [
    {
     "name": "stdout",
     "output_type": "stream",
     "text": [
      "1\n",
      "<function fun at 0x7fa9c464f670>\n"
     ]
    }
   ],
   "source": [
    "b = fun\n",
    "print(b())\n",
    "print(b)"
   ]
  },
  {
   "cell_type": "code",
   "execution_count": 7,
   "metadata": {},
   "outputs": [
    {
     "name": "stdout",
     "output_type": "stream",
     "text": [
      "30\n"
     ]
    }
   ],
   "source": [
    "def calculate_summa(a, b):\n",
    "    c = b + a\n",
    "    return c\n",
    "\n",
    "d = calculate_summa(10, 20)\n",
    "print(d)"
   ]
  },
  {
   "cell_type": "code",
   "execution_count": 8,
   "metadata": {},
   "outputs": [
    {
     "ename": "NameError",
     "evalue": "name 'add' is not defined",
     "output_type": "error",
     "traceback": [
      "\u001b[0;31m---------------------------------------------------------------------------\u001b[0m",
      "\u001b[0;31mNameError\u001b[0m                                 Traceback (most recent call last)",
      "\u001b[0;32m/tmp/ipykernel_2900/3401959338.py\u001b[0m in \u001b[0;36m<module>\u001b[0;34m\u001b[0m\n\u001b[0;32m----> 1\u001b[0;31m \u001b[0md\u001b[0m \u001b[0;34m=\u001b[0m \u001b[0madd\u001b[0m\u001b[0;34m(\u001b[0m\u001b[0;36m10\u001b[0m\u001b[0;34m,\u001b[0m \u001b[0;36m10\u001b[0m\u001b[0;34m)\u001b[0m \u001b[0;31m# Функцию нельзя использовать до тех пор, пока вы ее не объявите\u001b[0m\u001b[0;34m\u001b[0m\u001b[0;34m\u001b[0m\u001b[0m\n\u001b[0m\u001b[1;32m      2\u001b[0m \u001b[0mprint\u001b[0m\u001b[0;34m(\u001b[0m\u001b[0md\u001b[0m\u001b[0;34m)\u001b[0m\u001b[0;34m\u001b[0m\u001b[0;34m\u001b[0m\u001b[0m\n\u001b[1;32m      3\u001b[0m \u001b[0;34m\u001b[0m\u001b[0m\n\u001b[1;32m      4\u001b[0m \u001b[0;32mdef\u001b[0m \u001b[0madd\u001b[0m\u001b[0;34m(\u001b[0m\u001b[0ma\u001b[0m\u001b[0;34m,\u001b[0m \u001b[0mb\u001b[0m\u001b[0;34m)\u001b[0m\u001b[0;34m:\u001b[0m\u001b[0;34m\u001b[0m\u001b[0;34m\u001b[0m\u001b[0m\n\u001b[1;32m      5\u001b[0m     \u001b[0mc\u001b[0m \u001b[0;34m=\u001b[0m \u001b[0ma\u001b[0m \u001b[0;34m+\u001b[0m \u001b[0mb\u001b[0m\u001b[0;34m\u001b[0m\u001b[0;34m\u001b[0m\u001b[0m\n",
      "\u001b[0;31mNameError\u001b[0m: name 'add' is not defined"
     ]
    }
   ],
   "source": [
    "d = add(10, 10) # Функцию нельзя использовать до тех пор, пока вы ее не объявите\n",
    "print(d)\n",
    "\n",
    "def add(a, b):\n",
    "    c = a + b\n",
    "    return c"
   ]
  },
  {
   "cell_type": "code",
   "execution_count": 9,
   "metadata": {},
   "outputs": [
    {
     "name": "stdout",
     "output_type": "stream",
     "text": [
      "20\n"
     ]
    }
   ],
   "source": [
    "# оператор return не обязательный\n",
    "def add(a, b):\n",
    "    c = a + b\n",
    "    print(c)\n",
    "\n",
    "d = add(10, 10)\n"
   ]
  },
  {
   "cell_type": "code",
   "execution_count": 10,
   "metadata": {
    "scrolled": true
   },
   "outputs": [
    {
     "name": "stdout",
     "output_type": "stream",
     "text": [
      "None\n"
     ]
    }
   ],
   "source": [
    "print(d)\n"
   ]
  },
  {
   "cell_type": "code",
   "execution_count": 11,
   "metadata": {},
   "outputs": [
    {
     "name": "stdout",
     "output_type": "stream",
     "text": [
      "30\n",
      "None\n"
     ]
    }
   ],
   "source": [
    "print(add(20, 10))"
   ]
  },
  {
   "cell_type": "code",
   "execution_count": 12,
   "metadata": {},
   "outputs": [
    {
     "name": "stdout",
     "output_type": "stream",
     "text": [
      "(20, 40)\n",
      "60 80\n"
     ]
    }
   ],
   "source": [
    "# Сколько значений может возвращать функция? Произвольное количество.\n",
    "def mul(a, b):\n",
    "    a *= 2\n",
    "    b *= 2\n",
    "    return a, b\n",
    "    print('Hi') #  Этот print никогда не выполнится\n",
    "\n",
    "\n",
    "a = mul(10, 20)\n",
    "print(a)\n",
    "x = 30\n",
    "y = 40\n",
    "a, b = mul(x, y)\n",
    "print(a, b)"
   ]
  },
  {
   "cell_type": "markdown",
   "metadata": {},
   "source": [
    "Параметры, которые использовались при описании функции, называются **формальными** параметрами.\n",
    "\n",
    "\n",
    "Параметры, которые были использованы при вызове функции, называются **фактическими** параметрами.\n",
    "\n",
    "\n",
    "Переменные, объявленные внутри функции, а также формальные параметры являются **локальными** для этой функции.\n",
    "\n",
    "\n",
    "Это означает, что за пределами функции к этим переменным обратиться нельзя.\n",
    "\n",
    "\n",
    "При вызове функции сначала проверяется соответствие количества фактических и формальных параметров. После этого формальные параметры присваиваются фактическими и управление передается в тело функции. Когда работа функции заканчивается, то управление возвращается в тело вызывающей программы."
   ]
  },
  {
   "cell_type": "code",
   "execution_count": 13,
   "metadata": {},
   "outputs": [
    {
     "ename": "TypeError",
     "evalue": "mul() takes 2 positional arguments but 3 were given",
     "output_type": "error",
     "traceback": [
      "\u001b[0;31m---------------------------------------------------------------------------\u001b[0m",
      "\u001b[0;31mTypeError\u001b[0m                                 Traceback (most recent call last)",
      "\u001b[0;32m/tmp/ipykernel_2900/2819912978.py\u001b[0m in \u001b[0;36m<module>\u001b[0;34m\u001b[0m\n\u001b[0;32m----> 1\u001b[0;31m \u001b[0ma\u001b[0m\u001b[0;34m,\u001b[0m \u001b[0mb\u001b[0m \u001b[0;34m=\u001b[0m \u001b[0mmul\u001b[0m\u001b[0;34m(\u001b[0m\u001b[0;36m1\u001b[0m\u001b[0;34m,\u001b[0m \u001b[0;36m5\u001b[0m\u001b[0;34m,\u001b[0m \u001b[0;36m8\u001b[0m\u001b[0;34m)\u001b[0m\u001b[0;34m\u001b[0m\u001b[0;34m\u001b[0m\u001b[0m\n\u001b[0m\u001b[1;32m      2\u001b[0m \u001b[0mprint\u001b[0m\u001b[0;34m(\u001b[0m\u001b[0ma\u001b[0m\u001b[0;34m,\u001b[0m \u001b[0mb\u001b[0m\u001b[0;34m)\u001b[0m\u001b[0;34m\u001b[0m\u001b[0;34m\u001b[0m\u001b[0m\n",
      "\u001b[0;31mTypeError\u001b[0m: mul() takes 2 positional arguments but 3 were given"
     ]
    }
   ],
   "source": [
    "a, b = mul(1, 5, 8)\n",
    "print(a, b)"
   ]
  },
  {
   "cell_type": "code",
   "execution_count": 14,
   "metadata": {},
   "outputs": [
    {
     "ename": "TypeError",
     "evalue": "mul() missing 1 required positional argument: 'b'",
     "output_type": "error",
     "traceback": [
      "\u001b[0;31m---------------------------------------------------------------------------\u001b[0m",
      "\u001b[0;31mTypeError\u001b[0m                                 Traceback (most recent call last)",
      "\u001b[0;32m/tmp/ipykernel_2900/2932241500.py\u001b[0m in \u001b[0;36m<module>\u001b[0;34m\u001b[0m\n\u001b[0;32m----> 1\u001b[0;31m \u001b[0ma\u001b[0m\u001b[0;34m,\u001b[0m \u001b[0mb\u001b[0m \u001b[0;34m=\u001b[0m \u001b[0mmul\u001b[0m\u001b[0;34m(\u001b[0m\u001b[0;36m1\u001b[0m\u001b[0;34m)\u001b[0m\u001b[0;34m\u001b[0m\u001b[0;34m\u001b[0m\u001b[0m\n\u001b[0m",
      "\u001b[0;31mTypeError\u001b[0m: mul() missing 1 required positional argument: 'b'"
     ]
    }
   ],
   "source": [
    "a, b = mul(1)"
   ]
  },
  {
   "cell_type": "markdown",
   "metadata": {},
   "source": [
    "1) Старайтесь описывать функции так, чтобы их длина не превышала 30-ти строк. В случае, когда тело функции превышает предел в 30-ть строк, лучшим решением будет разбиение этой функции на две и более функций с меньшей длиной.\n",
    "\n",
    "2) Старайтесь чтобы ваша функция выполняла только одно логически завершенное действие. Не нужно объединять несколько разных завершенных действий. Пусть одна функция считывает данные с клавиатуры, вторая ищет введенные данные в списке и т.д.\n",
    "\n",
    "3) Давайте функциям названия, которые бы максимально точно описывали те действия, которые данная функция совершает. Поскольку большинство фукнций - это некое действие, то неплохо, чтобы функция начаналась с глаголов - set, get, update ...\n"
   ]
  },
  {
   "cell_type": "markdown",
   "metadata": {},
   "source": [
    "### Локальные переменные функции"
   ]
  },
  {
   "cell_type": "code",
   "execution_count": 1,
   "metadata": {
    "scrolled": true
   },
   "outputs": [
    {
     "name": "stdout",
     "output_type": "stream",
     "text": [
      "{'a': 4, 'b': 5, 'summa': 9}\n",
      "9\n",
      "10\n",
      "{'__name__': '__main__', '__doc__': 'Automatically created module for IPython interactive environment', '__package__': None, '__loader__': None, '__spec__': None, '__builtin__': <module 'builtins' (built-in)>, '__builtins__': <module 'builtins' (built-in)>, '_ih': ['', 'def calculate_summa(a, b):\\n    summa = a + b # calculate_summa.summa\\n    print(locals())\\n    return summa\\n\\nsumma = 10\\n\\nprint(calculate_summa(4, 5))\\nprint(summa)\\nprint(locals())'], '_oh': {}, '_dh': [WindowsPath('C:/Users/lodyg/hello-world')], 'In': ['', 'def calculate_summa(a, b):\\n    summa = a + b # calculate_summa.summa\\n    print(locals())\\n    return summa\\n\\nsumma = 10\\n\\nprint(calculate_summa(4, 5))\\nprint(summa)\\nprint(locals())'], 'Out': {}, 'get_ipython': <bound method InteractiveShell.get_ipython of <ipykernel.zmqshell.ZMQInteractiveShell object at 0x000002491404E890>>, 'exit': <IPython.core.autocall.ZMQExitAutocall object at 0x000002491408CD50>, 'quit': <IPython.core.autocall.ZMQExitAutocall object at 0x000002491408CD50>, 'open': <function open at 0x00000249113914E0>, '_': '', '__': '', '___': '', '_i': '', '_ii': '', '_iii': '', '_i1': 'def calculate_summa(a, b):\\n    summa = a + b # calculate_summa.summa\\n    print(locals())\\n    return summa\\n\\nsumma = 10\\n\\nprint(calculate_summa(4, 5))\\nprint(summa)\\nprint(locals())', 'calculate_summa': <function calculate_summa at 0x0000024914091760>, 'summa': 10}\n"
     ]
    }
   ],
   "source": [
    "def calculate_summa(a, b):\n",
    "    summa = a + b # calculate_summa.summa\n",
    "    print(locals())\n",
    "    return summa\n",
    "\n",
    "summa = 10\n",
    "\n",
    "print(calculate_summa(4, 5))\n",
    "print(summa)\n",
    "print(locals())"
   ]
  },
  {
   "cell_type": "code",
   "execution_count": 2,
   "metadata": {},
   "outputs": [
    {
     "name": "stdout",
     "output_type": "stream",
     "text": [
      "11\n",
      "5\n"
     ]
    }
   ],
   "source": [
    "# функция с параметрами неизменяемого типа данных\n",
    "\n",
    "def calculate_summa(a, b):\n",
    "    a = a + 3\n",
    "    summa = a + b\n",
    "    return summa\n",
    "\n",
    "a = 5\n",
    "b = 3\n",
    "\n",
    "print(calculate_summa(a, b))\n",
    "print(a)"
   ]
  },
  {
   "cell_type": "code",
   "execution_count": 3,
   "metadata": {},
   "outputs": [
    {
     "name": "stdout",
     "output_type": "stream",
     "text": [
      "21\n",
      "[6, 5, 10]\n"
     ]
    }
   ],
   "source": [
    "# функция с параметрами изменяемого типа данных\n",
    "\n",
    "def calculate_summa(a):\n",
    "    a[0] = a[0] + 3\n",
    "    summa = 0\n",
    "    for element in a:\n",
    "        summa = summa + element\n",
    "    return summa\n",
    "\n",
    "a = [3, 5, 10]\n",
    "print(calculate_summa(a))\n",
    "print(a)"
   ]
  },
  {
   "cell_type": "code",
   "execution_count": 4,
   "metadata": {},
   "outputs": [
    {
     "name": "stdout",
     "output_type": "stream",
     "text": [
      "21\n",
      "[6, 5, 10]\n"
     ]
    }
   ],
   "source": [
    "# функция с параметрами изменяемого типа данных. Имя переменной не имеет значение\n",
    "\n",
    "def calculate_summa(a):\n",
    "    a[0] = a[0] + 3\n",
    "    summa = 0\n",
    "    for element in a:\n",
    "        summa = summa + element\n",
    "    return summa\n",
    "\n",
    "b = [3, 5, 10]\n",
    "print(calculate_summa(b))\n",
    "print(b)"
   ]
  },
  {
   "cell_type": "code",
   "execution_count": null,
   "metadata": {},
   "outputs": [],
   "source": [
    "import copy\n",
    "\n",
    "def calculate_summa(tmp):\n",
    "    a = copy.deepcopy(tmp)\n",
    "    a[0] = a[0] + 3\n",
    "    summa = 0\n",
    "    for element in a:\n",
    "        summa = summa + element\n",
    "    return summa\n",
    "\n",
    "b = [3, 5, 10]\n",
    "print(calculate_summa(b))\n",
    "print(b)"
   ]
  },
  {
   "cell_type": "code",
   "execution_count": null,
   "metadata": {},
   "outputs": [],
   "source": [
    "a = [3, 5, 10]\n",
    "\n",
    "def mul():\n",
    "    summa = 0\n",
    "    for i in range(len(a)):\n",
    "        a[i] *= b # Доступ к значению переменной вне функции\n",
    "        summa = summa + a[i]\n",
    "    return summa\n",
    "\n",
    "b = 2\n",
    "print(mul())\n",
    "print(a)"
   ]
  },
  {
   "cell_type": "markdown",
   "metadata": {},
   "source": [
    "## Правило доступа к переменным LEGB\n",
    "**L** – Local. Включает в себя имена (идентификатор / переменные), указанные в функции (с использованием def или lambda), а не объявляются с помощью ключевого слова global.\n",
    "\n",
    "**E** – Enclosing. Включает в себя имя из локальной области видимости объемлющих функций  (например, с использованием def или lambda).\n",
    "\n",
    "**G** – Global. Включает в себя имена, работающих на верхнем уровне модуля или определенных с помощью ключевого слова global.\n",
    "\n",
    "**B** – Built-in . Встроенные встроенные функции, такие как print, input, open и т.д\n",
    "\n",
    "Согласно LEGB, для поиска имен в Python определен следующий порядок: **Local -> Enclosing-> Global -> Built-in**"
   ]
  },
  {
   "cell_type": "code",
   "execution_count": 5,
   "metadata": {},
   "outputs": [
    {
     "name": "stdout",
     "output_type": "stream",
     "text": [
      "Local\n",
      "global\n"
     ]
    }
   ],
   "source": [
    "pi = 'global'\n",
    "def inner():\n",
    "    pi = 'Local'\n",
    "    print(pi)\n",
    "\n",
    "inner()\n",
    "print(pi)"
   ]
  },
  {
   "cell_type": "code",
   "execution_count": 6,
   "metadata": {},
   "outputs": [
    {
     "name": "stdout",
     "output_type": "stream",
     "text": [
      "global\n",
      "global\n"
     ]
    }
   ],
   "source": [
    "pi = 'global'\n",
    "\n",
    "def inner():\n",
    "    # pi = 'Local' Есть нюансы\n",
    "    print(pi)\n",
    "\n",
    "inner()\n",
    "print(pi)"
   ]
  },
  {
   "cell_type": "code",
   "execution_count": 7,
   "metadata": {},
   "outputs": [
    {
     "name": "stdout",
     "output_type": "stream",
     "text": [
      "outer\n",
      "global\n"
     ]
    }
   ],
   "source": [
    "# Enclosing\n",
    "pi = 'global'\n",
    "\n",
    "def outer():\n",
    "    pi = 'outer'\n",
    "    def inner():\n",
    "        # pi = 'Local'\n",
    "        print(pi)\n",
    "    inner()\n",
    "\n",
    "outer()\n",
    "print(pi)"
   ]
  },
  {
   "cell_type": "code",
   "execution_count": 8,
   "metadata": {},
   "outputs": [
    {
     "name": "stdout",
     "output_type": "stream",
     "text": [
      "outerOUT\n",
      "global\n"
     ]
    }
   ],
   "source": [
    "def outer():\n",
    "    pi = 'outer'\n",
    "    def inner():\n",
    "#         pi = 'Local'\n",
    "        nonlocal pi\n",
    "        pi = pi + 'OUT' # Менять переменную, которой нет в функции нельзя.\n",
    "        print(pi)\n",
    "    inner()\n",
    "\n",
    "outer()\n",
    "print(pi)"
   ]
  },
  {
   "cell_type": "code",
   "execution_count": null,
   "metadata": {},
   "outputs": [],
   "source": [
    "# Built-in\n",
    "from math import pi\n",
    "\n",
    "# pi = 'global'\n",
    "\n",
    "def outer():\n",
    "    # pi = 'outer'\n",
    "    def inner():\n",
    "        # pi = 'Local'\n",
    "        print(pi)\n",
    "    inner()\n",
    "\n",
    "outer()"
   ]
  },
  {
   "cell_type": "code",
   "execution_count": null,
   "metadata": {},
   "outputs": [],
   "source": [
    "# Built-in\n",
    "# from math import pi\n",
    "\n",
    "# pi = 'global'\n",
    "\n",
    "def inner():\n",
    "    # pi = 'Local'\n",
    "    print(pi)\n",
    "inner()\n",
    "\n"
   ]
  },
  {
   "cell_type": "code",
   "execution_count": null,
   "metadata": {},
   "outputs": [],
   "source": [
    "# No error\n",
    "\n",
    "pi = 5\n",
    "def inner():\n",
    "    a = 10 + pi\n",
    "    print(a)\n",
    "\n",
    "inner()\n"
   ]
  },
  {
   "cell_type": "code",
   "execution_count": null,
   "metadata": {
    "scrolled": true
   },
   "outputs": [],
   "source": [
    "pi = 5\n",
    "def inner():\n",
    "    a = 10 + pi\n",
    "    print(a)\n",
    "    pi += 10 # error\n",
    "    print(pi)\n",
    "\n",
    "inner()"
   ]
  },
  {
   "cell_type": "markdown",
   "metadata": {},
   "source": [
    "### *global*"
   ]
  },
  {
   "cell_type": "code",
   "execution_count": null,
   "metadata": {},
   "outputs": [],
   "source": [
    "\n",
    "def inner():\n",
    "    global pi\n",
    "    a = 60 + pi\n",
    "    pi += 10 # no error!\n",
    "    print(a)\n",
    "    print(pi)\n",
    "\n",
    "pi = 5\n",
    "inner()\n",
    "print(pi)"
   ]
  },
  {
   "cell_type": "markdown",
   "metadata": {
    "pycharm": {
     "name": "#%% md\n"
    }
   },
   "source": [
    "### Внимание!! Это хоть и существующая возможность, но применение global при написании функций, считается не самой удачной практикой. Поэтому используйте эту возможность только в случае, когда иных решений нет.\n"
   ]
  },
  {
   "cell_type": "markdown",
   "metadata": {},
   "source": [
    "### Калькулятор на основе словаря\n"
   ]
  },
  {
   "cell_type": "code",
   "execution_count": null,
   "metadata": {},
   "outputs": [],
   "source": [
    "import operator\n",
    "actions = {\n",
    "    \"+\": operator.add,\n",
    "    \"-\": operator.sub,\n",
    "    \"*\": operator.mul,\n",
    "    \"/\": operator.truediv,\n",
    "    \"//\": operator.floordiv,\n",
    "    \"%\": operator.mod,\n",
    "    \"**\": operator.pow,\n",
    "}\n",
    "x = float(input('Type X: '))\n",
    "action = input('Type Action: ')\n",
    "y = float(input('Type Y: '))\n",
    "if y == 0.0 and action in ['/', '//', '%']:\n",
    "    print('Error. Division by zero!')\n",
    "else:\n",
    "    action = actions.get(action)\n",
    "    if not action:\n",
    "        print('Not supported action')\n",
    "    else:\n",
    "        print(action(x, y))\n"
   ]
  },
  {
   "cell_type": "markdown",
   "metadata": {},
   "source": [
    "## Продумать алгоритм решения задачи из доп. материалов (золотоискатель)\n"
   ]
  }
 ],
 "metadata": {
  "kernelspec": {
   "display_name": "Python 3 (ipykernel)",
   "language": "python",
   "name": "python3"
  },
  "language_info": {
   "codemirror_mode": {
    "name": "ipython",
    "version": 3
   },
   "file_extension": ".py",
   "mimetype": "text/x-python",
   "name": "python",
   "nbconvert_exporter": "python",
   "pygments_lexer": "ipython3",
   "version": "3.11.3"
  }
 },
 "nbformat": 4,
 "nbformat_minor": 2
}
