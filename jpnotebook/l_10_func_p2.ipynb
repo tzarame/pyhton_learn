{
 "cells": [
  {
   "cell_type": "markdown",
   "metadata": {},
   "source": [
    "## Использование именованных параметров"
   ]
  },
  {
   "cell_type": "markdown",
   "metadata": {},
   "source": [
    "### Обычный вызов. Присвоение позиционное."
   ]
  },
  {
   "cell_type": "code",
   "execution_count": 1,
   "metadata": {},
   "outputs": [
    {
     "name": "stdout",
     "output_type": "stream",
     "text": [
      "******"
     ]
    }
   ],
   "source": [
    "def print_line(w, fill):\n",
    "    for i in range(w):\n",
    "        print(fill, end = \"\")\n",
    "    return\n",
    "\n",
    "print_line(6, \"*\")"
   ]
  },
  {
   "cell_type": "code",
   "execution_count": 2,
   "metadata": {},
   "outputs": [
    {
     "ename": "TypeError",
     "evalue": "'str' object cannot be interpreted as an integer",
     "output_type": "error",
     "traceback": [
      "\u001b[1;31m---------------------------------------------------------------------------\u001b[0m",
      "\u001b[1;31mTypeError\u001b[0m                                 Traceback (most recent call last)",
      "Cell \u001b[1;32mIn[2], line 1\u001b[0m\n\u001b[1;32m----> 1\u001b[0m \u001b[43mprint_line\u001b[49m\u001b[43m(\u001b[49m\u001b[38;5;124;43m\"\u001b[39;49m\u001b[38;5;124;43m*\u001b[39;49m\u001b[38;5;124;43m\"\u001b[39;49m\u001b[43m,\u001b[49m\u001b[43m \u001b[49m\u001b[38;5;241;43m6\u001b[39;49m\u001b[43m)\u001b[49m\n",
      "Cell \u001b[1;32mIn[1], line 2\u001b[0m, in \u001b[0;36mprint_line\u001b[1;34m(w, fill)\u001b[0m\n\u001b[0;32m      1\u001b[0m \u001b[38;5;28;01mdef\u001b[39;00m \u001b[38;5;21mprint_line\u001b[39m(w, fill):\n\u001b[1;32m----> 2\u001b[0m     \u001b[38;5;28;01mfor\u001b[39;00m i \u001b[38;5;129;01min\u001b[39;00m \u001b[38;5;28mrange\u001b[39m(w):\n\u001b[0;32m      3\u001b[0m         \u001b[38;5;28mprint\u001b[39m(fill, end \u001b[38;5;241m=\u001b[39m \u001b[38;5;124m\"\u001b[39m\u001b[38;5;124m\"\u001b[39m)\n\u001b[0;32m      4\u001b[0m     \u001b[38;5;28;01mreturn\u001b[39;00m\n",
      "\u001b[1;31mTypeError\u001b[0m: 'str' object cannot be interpreted as an integer"
     ]
    }
   ],
   "source": [
    "print_line(\"*\", 6)"
   ]
  },
  {
   "cell_type": "markdown",
   "metadata": {},
   "source": [
    "### Именованный вызов. Присвоение по именам."
   ]
  },
  {
   "cell_type": "code",
   "execution_count": 3,
   "metadata": {},
   "outputs": [
    {
     "name": "stdout",
     "output_type": "stream",
     "text": [
      "++++++++++"
     ]
    }
   ],
   "source": [
    "print_line(fill=\"+\", w=10)"
   ]
  },
  {
   "cell_type": "markdown",
   "metadata": {},
   "source": [
    "## Функции c параметрами по умолчанию\n",
    "Иногда возникает необходимость в использовании параметра по умолчанию. Т.е. если при вызове такой параметр не указывается, то берется значение по умолчанию. Однако если при вызове его значение указывается, то будет использовано значение, указанное в качестве параметра."
   ]
  },
  {
   "cell_type": "code",
   "execution_count": 4,
   "metadata": {},
   "outputs": [
    {
     "name": "stdout",
     "output_type": "stream",
     "text": [
      "*****\n",
      "*****\n",
      "*****\n",
      "*****\n",
      "*****\n",
      "*****\n",
      "*****\n"
     ]
    }
   ],
   "source": [
    "def draw_rectangle(w, h, fill=\"*\"):\n",
    "    for i in range(w):\n",
    "        for j in range(h):\n",
    "            print(fill, end=\"\")\n",
    "        print()\n",
    "    return\n",
    "\n",
    "draw_rectangle(7, 5)"
   ]
  },
  {
   "cell_type": "code",
   "execution_count": 5,
   "metadata": {},
   "outputs": [
    {
     "name": "stdout",
     "output_type": "stream",
     "text": [
      "@@@@@\n",
      "@@@@@\n",
      "@@@@@\n",
      "@@@@@\n",
      "@@@@@\n",
      "@@@@@\n",
      "@@@@@\n"
     ]
    }
   ],
   "source": [
    "draw_rectangle(7, 5, \"@\")"
   ]
  },
  {
   "cell_type": "code",
   "execution_count": 6,
   "metadata": {
    "scrolled": true
   },
   "outputs": [
    {
     "name": "stdout",
     "output_type": "stream",
     "text": [
      "+++++\n",
      "+++++\n",
      "+++++\n",
      "+++++\n",
      "+++++\n",
      "+++++\n",
      "+++++\n"
     ]
    }
   ],
   "source": [
    "draw_rectangle(7, 5, fill=\"+\")"
   ]
  },
  {
   "cell_type": "code",
   "execution_count": 7,
   "metadata": {},
   "outputs": [
    {
     "name": "stdout",
     "output_type": "stream",
     "text": [
      "[1]\n"
     ]
    }
   ],
   "source": [
    "def some(a, b=[]):\n",
    "    b.append(a)\n",
    "    return b\n",
    "\n",
    "print(some(1))"
   ]
  },
  {
   "cell_type": "code",
   "execution_count": 8,
   "metadata": {},
   "outputs": [
    {
     "name": "stdout",
     "output_type": "stream",
     "text": [
      "[1, 2]\n"
     ]
    }
   ],
   "source": [
    "print(some(2))"
   ]
  },
  {
   "cell_type": "code",
   "execution_count": 9,
   "metadata": {},
   "outputs": [
    {
     "name": "stdout",
     "output_type": "stream",
     "text": [
      "[1, 2, 3]\n"
     ]
    }
   ],
   "source": [
    "print(some(3))"
   ]
  },
  {
   "cell_type": "code",
   "execution_count": 10,
   "metadata": {},
   "outputs": [
    {
     "name": "stdout",
     "output_type": "stream",
     "text": [
      "[2]\n"
     ]
    }
   ],
   "source": [
    "print(some(2, []))"
   ]
  },
  {
   "cell_type": "code",
   "execution_count": 11,
   "metadata": {},
   "outputs": [
    {
     "name": "stdout",
     "output_type": "stream",
     "text": [
      "[1, 2, 3, 4]\n"
     ]
    }
   ],
   "source": [
    "print(some(4))\n"
   ]
  },
  {
   "cell_type": "code",
   "execution_count": 12,
   "metadata": {},
   "outputs": [],
   "source": [
    "def some(a, b=None):\n",
    "    if b is None:\n",
    "        b = []\n",
    "    b.append(a)\n",
    "    return b"
   ]
  },
  {
   "cell_type": "code",
   "execution_count": 13,
   "metadata": {},
   "outputs": [
    {
     "name": "stdout",
     "output_type": "stream",
     "text": [
      "[1]\n"
     ]
    }
   ],
   "source": [
    "print(some(1))"
   ]
  },
  {
   "cell_type": "code",
   "execution_count": 14,
   "metadata": {},
   "outputs": [
    {
     "name": "stdout",
     "output_type": "stream",
     "text": [
      "[2]\n"
     ]
    }
   ],
   "source": [
    "print(some(2))\n"
   ]
  },
  {
   "cell_type": "code",
   "execution_count": 15,
   "metadata": {},
   "outputs": [
    {
     "name": "stdout",
     "output_type": "stream",
     "text": [
      "[4, 6, 2]\n"
     ]
    }
   ],
   "source": [
    "print(some(2, [4, 6]))"
   ]
  },
  {
   "cell_type": "code",
   "execution_count": 19,
   "metadata": {},
   "outputs": [
    {
     "name": "stdout",
     "output_type": "stream",
     "text": [
      "1 2 3 4 8 5 4 64 67 3 43\n"
     ]
    }
   ],
   "source": [
    "print(1, 2, 3, 4, 8, 5, 4, 64, 67, 3, 43)\n"
   ]
  },
  {
   "cell_type": "markdown",
   "metadata": {},
   "source": [
    "## Использование переменного числа аргументов\n",
    "В случае, когда нужно написать функцию, которая может принимать заранее неизвестное количество аргументов, можно\n",
    "использовать следующую возможность языка Python - если при объявлении функции в качестве одного из аргументов указать параметр вида **\\*args** ,то все параметры, которые не попадают в именованные или позиционные, будут упакованы в кортеж с именем **args**."
   ]
  },
  {
   "cell_type": "code",
   "execution_count": 20,
   "metadata": {},
   "outputs": [
    {
     "name": "stdout",
     "output_type": "stream",
     "text": [
      "{'teacher': 'Petr Ivanovich', 'student_list': ['Nikolay', 'Olga', 'Bogdan']}\n"
     ]
    }
   ],
   "source": [
    "def get_class_list(teacher, *args):\n",
    "    result = {\"teacher\": teacher, \"student_list\":[]}\n",
    "    for student in args:\n",
    "        result.get(\"student_list\").append(student)\n",
    "    return result\n",
    "\n",
    "class_list_1 = get_class_list(\"Petr Ivanovich\", \"Nikolay\", \"Olga\", \"Bogdan\")\n",
    "print(class_list_1)"
   ]
  },
  {
   "cell_type": "code",
   "execution_count": 22,
   "metadata": {},
   "outputs": [
    {
     "name": "stdout",
     "output_type": "stream",
     "text": [
      "('Nikolay', 'Olga', 'Bogdan', 'Vova')\n",
      "<class 'tuple'>\n"
     ]
    }
   ],
   "source": [
    "def get_class_list(teacher, *args):\n",
    "    print(args)\n",
    "    print(type(args))\n",
    "    result = {\"teacher\":teacher,\"student_list\":[]}\n",
    "    for student in args:\n",
    "        result.get(\"student_list\").append(student)\n",
    "    return result\n",
    "\n",
    "class_list_1 = get_class_list(\"Petr Ivanovich\", \"Nikolay\", \"Olga\", \"Bogdan\", 'Vova')"
   ]
  },
  {
   "cell_type": "code",
   "execution_count": 25,
   "metadata": {},
   "outputs": [
    {
     "name": "stdout",
     "output_type": "stream",
     "text": [
      "('Petr Ivanovich',)\n"
     ]
    },
    {
     "ename": "NameError",
     "evalue": "name 'teacher' is not defined",
     "output_type": "error",
     "traceback": [
      "\u001b[1;31m---------------------------------------------------------------------------\u001b[0m",
      "\u001b[1;31mNameError\u001b[0m                                 Traceback (most recent call last)",
      "Cell \u001b[1;32mIn[25], line 8\u001b[0m\n\u001b[0;32m      5\u001b[0m         result\u001b[38;5;241m.\u001b[39mget(\u001b[38;5;124m\"\u001b[39m\u001b[38;5;124mstudent_list\u001b[39m\u001b[38;5;124m\"\u001b[39m)\u001b[38;5;241m.\u001b[39mappend(student)\n\u001b[0;32m      6\u001b[0m     \u001b[38;5;28;01mreturn\u001b[39;00m result\n\u001b[1;32m----> 8\u001b[0m class_list_1 \u001b[38;5;241m=\u001b[39m \u001b[43mget_class_list\u001b[49m\u001b[43m(\u001b[49m\u001b[43m \u001b[49m\u001b[38;5;124;43m\"\u001b[39;49m\u001b[38;5;124;43mPetr Ivanovich\u001b[39;49m\u001b[38;5;124;43m\"\u001b[39;49m\u001b[43m \u001b[49m\u001b[43m)\u001b[49m\n\u001b[0;32m      9\u001b[0m \u001b[38;5;28mprint\u001b[39m(class_list_1)\n",
      "Cell \u001b[1;32mIn[25], line 3\u001b[0m, in \u001b[0;36mget_class_list\u001b[1;34m(*args)\u001b[0m\n\u001b[0;32m      1\u001b[0m \u001b[38;5;28;01mdef\u001b[39;00m \u001b[38;5;21mget_class_list\u001b[39m(\u001b[38;5;241m*\u001b[39margs):\n\u001b[0;32m      2\u001b[0m     \u001b[38;5;28mprint\u001b[39m(args)\n\u001b[1;32m----> 3\u001b[0m     result \u001b[38;5;241m=\u001b[39m {\u001b[38;5;124m\"\u001b[39m\u001b[38;5;124mteacher\u001b[39m\u001b[38;5;124m\"\u001b[39m:\u001b[43mteacher\u001b[49m,\u001b[38;5;124m\"\u001b[39m\u001b[38;5;124mstudent_list\u001b[39m\u001b[38;5;124m\"\u001b[39m:[]}\n\u001b[0;32m      4\u001b[0m     \u001b[38;5;28;01mfor\u001b[39;00m student \u001b[38;5;129;01min\u001b[39;00m args:\n\u001b[0;32m      5\u001b[0m         result\u001b[38;5;241m.\u001b[39mget(\u001b[38;5;124m\"\u001b[39m\u001b[38;5;124mstudent_list\u001b[39m\u001b[38;5;124m\"\u001b[39m)\u001b[38;5;241m.\u001b[39mappend(student)\n",
      "\u001b[1;31mNameError\u001b[0m: name 'teacher' is not defined"
     ]
    }
   ],
   "source": [
    "def get_class_list(teacher, *args):\n",
    "    print(args)\n",
    "    result = {\"teacher\":teacher,\"student_list\":[]}\n",
    "    for student in args:\n",
    "        result.get(\"student_list\").append(student)\n",
    "    return result\n",
    "\n",
    "class_list_1 = get_class_list( \"Petr Ivanovich\" )\n",
    "print(class_list_1)"
   ]
  },
  {
   "cell_type": "code",
   "execution_count": 24,
   "metadata": {},
   "outputs": [
    {
     "ename": "TypeError",
     "evalue": "get_class_list() missing 1 required positional argument: 'teacher'",
     "output_type": "error",
     "traceback": [
      "\u001b[1;31m---------------------------------------------------------------------------\u001b[0m",
      "\u001b[1;31mTypeError\u001b[0m                                 Traceback (most recent call last)",
      "Cell \u001b[1;32mIn[24], line 1\u001b[0m\n\u001b[1;32m----> 1\u001b[0m class_list_1 \u001b[38;5;241m=\u001b[39m \u001b[43mget_class_list\u001b[49m\u001b[43m(\u001b[49m\u001b[43m)\u001b[49m \u001b[38;5;66;03m# error\u001b[39;00m\n\u001b[0;32m      2\u001b[0m \u001b[38;5;28mprint\u001b[39m(class_list_1)\n",
      "\u001b[1;31mTypeError\u001b[0m: get_class_list() missing 1 required positional argument: 'teacher'"
     ]
    }
   ],
   "source": [
    "class_list_1 = get_class_list() # error\n",
    "print(class_list_1)"
   ]
  },
  {
   "cell_type": "code",
   "execution_count": 26,
   "metadata": {},
   "outputs": [
    {
     "name": "stdout",
     "output_type": "stream",
     "text": [
      "('Nikolay', 'Olga', 'Bogdan', 'Vova')\n",
      "{'teacher': 'Teacher', 'student_list': ['Nikolay', 'Olga', 'Bogdan', 'Vova']}\n"
     ]
    }
   ],
   "source": [
    "def get_class_list(*args):\n",
    "    print(args)\n",
    "    result = {\"teacher\": 'Teacher', \"student_list\": []}\n",
    "    for student in args:\n",
    "        result.get(\"student_list\").append(student)\n",
    "    return result\n",
    "\n",
    "class_list_1 = get_class_list(\"Nikolay\", \"Olga\", \"Bogdan\", 'Vova' )\n",
    "print(class_list_1)"
   ]
  },
  {
   "cell_type": "code",
   "execution_count": 27,
   "metadata": {},
   "outputs": [
    {
     "name": "stdout",
     "output_type": "stream",
     "text": [
      "()\n",
      "{'teacher': 'Teacher', 'student_list': []}\n"
     ]
    }
   ],
   "source": [
    "class_list_1 = get_class_list()\n",
    "print(class_list_1)"
   ]
  },
  {
   "cell_type": "code",
   "execution_count": 29,
   "metadata": {},
   "outputs": [],
   "source": [
    "# Более простой вариант функции\n",
    "def get_class_list(teacher, *args):\n",
    "    result = {\"teacher\": teacher, \"student_list\": list(args)}\n",
    "    # for student in args:\n",
    "    #     result.get(\"student_list\").append(student)\n",
    "    return result"
   ]
  },
  {
   "cell_type": "code",
   "execution_count": 30,
   "metadata": {},
   "outputs": [
    {
     "name": "stdout",
     "output_type": "stream",
     "text": [
      "{'teacher': 'Petr Ivanovich', 'student_list': ['Nikolay', 'Olga', 'Bogdan', 'Vova']}\n"
     ]
    }
   ],
   "source": [
    "class_list_1 = get_class_list( \"Petr Ivanovich\", \"Nikolay\", \"Olga\", \"Bogdan\", 'Vova')\n",
    "print(class_list_1)"
   ]
  },
  {
   "cell_type": "code",
   "execution_count": 31,
   "metadata": {},
   "outputs": [
    {
     "name": "stdout",
     "output_type": "stream",
     "text": [
      "-5\n"
     ]
    }
   ],
   "source": [
    "# использования переменного числа аргументов\n",
    "def get_min(*args): # упаковка аргументов в кортеж\n",
    "    min_element = args[0] # Ошибка, если элементов не будет\n",
    "    for element in args:\n",
    "        if element < min_element:\n",
    "            min_element = element\n",
    "    return min_element\n",
    "\n",
    "a = get_min(0, 6, 2, -5)\n",
    "print(a)"
   ]
  },
  {
   "cell_type": "code",
   "execution_count": 32,
   "metadata": {
    "scrolled": true
   },
   "outputs": [
    {
     "ename": "IndexError",
     "evalue": "tuple index out of range",
     "output_type": "error",
     "traceback": [
      "\u001b[1;31m---------------------------------------------------------------------------\u001b[0m",
      "\u001b[1;31mIndexError\u001b[0m                                Traceback (most recent call last)",
      "Cell \u001b[1;32mIn[32], line 1\u001b[0m\n\u001b[1;32m----> 1\u001b[0m a \u001b[38;5;241m=\u001b[39m \u001b[43mget_min\u001b[49m\u001b[43m(\u001b[49m\u001b[43m)\u001b[49m\n",
      "Cell \u001b[1;32mIn[31], line 3\u001b[0m, in \u001b[0;36mget_min\u001b[1;34m(*args)\u001b[0m\n\u001b[0;32m      2\u001b[0m \u001b[38;5;28;01mdef\u001b[39;00m \u001b[38;5;21mget_min\u001b[39m(\u001b[38;5;241m*\u001b[39margs): \u001b[38;5;66;03m# упаковка аргументов в кортеж\u001b[39;00m\n\u001b[1;32m----> 3\u001b[0m     min_element \u001b[38;5;241m=\u001b[39m \u001b[43margs\u001b[49m\u001b[43m[\u001b[49m\u001b[38;5;241;43m0\u001b[39;49m\u001b[43m]\u001b[49m \u001b[38;5;66;03m# Ошибка, если элементов не будет\u001b[39;00m\n\u001b[0;32m      4\u001b[0m     \u001b[38;5;28;01mfor\u001b[39;00m element \u001b[38;5;129;01min\u001b[39;00m args:\n\u001b[0;32m      5\u001b[0m         \u001b[38;5;28;01mif\u001b[39;00m element \u001b[38;5;241m<\u001b[39m min_element:\n",
      "\u001b[1;31mIndexError\u001b[0m: tuple index out of range"
     ]
    }
   ],
   "source": [
    "a = get_min()"
   ]
  },
  {
   "cell_type": "code",
   "execution_count": 33,
   "metadata": {},
   "outputs": [
    {
     "name": "stdout",
     "output_type": "stream",
     "text": [
      "None\n"
     ]
    }
   ],
   "source": [
    "def get_min(*args): # упаковка аргументов в кортеж\n",
    "    min_element = None\n",
    "    if args:\n",
    "        min_element = args[0]\n",
    "    for element in args:\n",
    "        if element < min_element:\n",
    "            min_element = element\n",
    "    return min_element\n",
    "\n",
    "a = get_min()\n",
    "print(a)"
   ]
  },
  {
   "cell_type": "code",
   "execution_count": 34,
   "metadata": {},
   "outputs": [
    {
     "name": "stdout",
     "output_type": "stream",
     "text": [
      "1\n"
     ]
    }
   ],
   "source": [
    "a = get_min(1)\n",
    "print(a)"
   ]
  },
  {
   "cell_type": "code",
   "execution_count": 35,
   "metadata": {},
   "outputs": [
    {
     "name": "stdout",
     "output_type": "stream",
     "text": [
      "5 4\n"
     ]
    }
   ],
   "source": [
    "x = 4\n",
    "y = 5\n",
    "x, y = y, x\n",
    "print(x, y)"
   ]
  },
  {
   "cell_type": "code",
   "execution_count": 36,
   "metadata": {},
   "outputs": [
    {
     "name": "stdout",
     "output_type": "stream",
     "text": [
      "1 3 3.36\n"
     ]
    }
   ],
   "source": [
    "x, y, z = [1, 3, 3.36]\n",
    "print(x, y, z)"
   ]
  },
  {
   "cell_type": "code",
   "execution_count": 37,
   "metadata": {},
   "outputs": [
    {
     "ename": "ValueError",
     "evalue": "too many values to unpack (expected 3)",
     "output_type": "error",
     "traceback": [
      "\u001b[1;31m---------------------------------------------------------------------------\u001b[0m",
      "\u001b[1;31mValueError\u001b[0m                                Traceback (most recent call last)",
      "Cell \u001b[1;32mIn[37], line 1\u001b[0m\n\u001b[1;32m----> 1\u001b[0m x, y, z \u001b[38;5;241m=\u001b[39m [\u001b[38;5;241m1\u001b[39m, \u001b[38;5;241m3\u001b[39m, \u001b[38;5;241m3.36\u001b[39m, \u001b[38;5;241m4\u001b[39m] \u001b[38;5;66;03m# error\u001b[39;00m\n\u001b[0;32m      2\u001b[0m \u001b[38;5;28mprint\u001b[39m(x, y, z)\n",
      "\u001b[1;31mValueError\u001b[0m: too many values to unpack (expected 3)"
     ]
    }
   ],
   "source": [
    "x, y, z = [1, 3, 3.36, 4] # error\n",
    "print(x, y, z)"
   ]
  },
  {
   "cell_type": "code",
   "execution_count": 42,
   "metadata": {},
   "outputs": [
    {
     "name": "stdout",
     "output_type": "stream",
     "text": [
      "0 6 2 [-5, 0, 56]\n"
     ]
    }
   ],
   "source": [
    "lst = (0, 6, 2, -5, 0, 56)\n",
    "x, y, c, *z = lst\n",
    "print(x, y, c, z)"
   ]
  },
  {
   "cell_type": "code",
   "execution_count": 43,
   "metadata": {},
   "outputs": [
    {
     "name": "stdout",
     "output_type": "stream",
     "text": [
      "0 -5 [6, 2]\n"
     ]
    }
   ],
   "source": [
    "lst = (0, 6, 2, -5)\n",
    "x, *_, y = lst\n",
    "print(x, y, _)"
   ]
  },
  {
   "cell_type": "code",
   "execution_count": 44,
   "metadata": {},
   "outputs": [
    {
     "name": "stdout",
     "output_type": "stream",
     "text": [
      "-5 [0, 6, 2]\n"
     ]
    }
   ],
   "source": [
    "lst = (0, 6, 2, -5)\n",
    "*_, y = lst\n",
    "print( y, _)"
   ]
  },
  {
   "cell_type": "code",
   "execution_count": 45,
   "metadata": {},
   "outputs": [
    {
     "name": "stdout",
     "output_type": "stream",
     "text": [
      "0 6 []\n"
     ]
    }
   ],
   "source": [
    "lst = (0, 6)\n",
    "x, y, *_ = lst\n",
    "print(x, y, _)"
   ]
  },
  {
   "cell_type": "code",
   "execution_count": 46,
   "metadata": {},
   "outputs": [
    {
     "ename": "ValueError",
     "evalue": "not enough values to unpack (expected at least 2, got 1)",
     "output_type": "error",
     "traceback": [
      "\u001b[1;31m---------------------------------------------------------------------------\u001b[0m",
      "\u001b[1;31mValueError\u001b[0m                                Traceback (most recent call last)",
      "Cell \u001b[1;32mIn[46], line 2\u001b[0m\n\u001b[0;32m      1\u001b[0m lst \u001b[38;5;241m=\u001b[39m (\u001b[38;5;241m0\u001b[39m,) \u001b[38;5;66;03m# error\u001b[39;00m\n\u001b[1;32m----> 2\u001b[0m x, y, \u001b[38;5;241m*\u001b[39m_ \u001b[38;5;241m=\u001b[39m lst\n\u001b[0;32m      3\u001b[0m \u001b[38;5;28mprint\u001b[39m(x, y, _)\n",
      "\u001b[1;31mValueError\u001b[0m: not enough values to unpack (expected at least 2, got 1)"
     ]
    }
   ],
   "source": [
    "lst = (0,) # error\n",
    "x, y, *_ = lst\n",
    "print(x, y, _)"
   ]
  },
  {
   "cell_type": "code",
   "execution_count": 47,
   "metadata": {
    "scrolled": true
   },
   "outputs": [
    {
     "ename": "SyntaxError",
     "evalue": "multiple starred expressions in assignment (2481929029.py, line 2)",
     "output_type": "error",
     "traceback": [
      "\u001b[1;36m  Cell \u001b[1;32mIn[47], line 2\u001b[1;36m\u001b[0m\n\u001b[1;33m    *_, c, *d  = lst # Середина не работает\u001b[0m\n\u001b[1;37m    ^\u001b[0m\n\u001b[1;31mSyntaxError\u001b[0m\u001b[1;31m:\u001b[0m multiple starred expressions in assignment\n"
     ]
    }
   ],
   "source": [
    "lst = (0, 6, 2, -5, 0, 56)\n",
    "*_, c, *d  = lst # Середина не работает\n",
    "print(_, c)"
   ]
  },
  {
   "cell_type": "markdown",
   "metadata": {},
   "source": [
    "### Использование переменного числа именованных аргументов\n",
    "В случае когда, нужно написать функцию, которая может принимать заранее неизвестное количество именованных аргументов, можно использовать следующую возможность языка Python - если при объявлении функции в качестве одного из аргументов указать параметр вида **\\**kwargs** то все параметры, которые не попадают в позиционные и будут\n",
    "вызваны как именованные, будут упакованы в словарь с именем **kwargs**."
   ]
  },
  {
   "cell_type": "code",
   "execution_count": 48,
   "metadata": {},
   "outputs": [
    {
     "ename": "TypeError",
     "evalue": "draw_rectangle() got an unexpected keyword argument 'sep'",
     "output_type": "error",
     "traceback": [
      "\u001b[1;31m---------------------------------------------------------------------------\u001b[0m",
      "\u001b[1;31mTypeError\u001b[0m                                 Traceback (most recent call last)",
      "Cell \u001b[1;32mIn[48], line 8\u001b[0m\n\u001b[0;32m      5\u001b[0m         \u001b[38;5;28mprint\u001b[39m()\n\u001b[0;32m      6\u001b[0m     \u001b[38;5;28;01mreturn\u001b[39;00m\n\u001b[1;32m----> 8\u001b[0m \u001b[43mdraw_rectangle\u001b[49m\u001b[43m(\u001b[49m\u001b[38;5;241;43m7\u001b[39;49m\u001b[43m,\u001b[49m\u001b[43m \u001b[49m\u001b[38;5;241;43m5\u001b[39;49m\u001b[43m,\u001b[49m\u001b[43m \u001b[49m\u001b[38;5;124;43m'\u001b[39;49m\u001b[38;5;124;43m*\u001b[39;49m\u001b[38;5;124;43m'\u001b[39;49m\u001b[43m,\u001b[49m\u001b[43m \u001b[49m\u001b[43msep\u001b[49m\u001b[38;5;241;43m=\u001b[39;49m\u001b[38;5;124;43m'\u001b[39;49m\u001b[38;5;124;43m++\u001b[39;49m\u001b[38;5;124;43m'\u001b[39;49m\u001b[43m)\u001b[49m \u001b[38;5;66;03m# TypeError:\u001b[39;00m\n",
      "\u001b[1;31mTypeError\u001b[0m: draw_rectangle() got an unexpected keyword argument 'sep'"
     ]
    }
   ],
   "source": [
    "def draw_rectangle(w, h, fill=\"X\"):\n",
    "    for i in range(w):\n",
    "        for j in range(h):\n",
    "            print(fill, end=\"\")\n",
    "        print()\n",
    "    return\n",
    "\n",
    "draw_rectangle(7, 5, '*', sep='++') # TypeError:"
   ]
  },
  {
   "cell_type": "code",
   "execution_count": 49,
   "metadata": {
    "scrolled": true
   },
   "outputs": [
    {
     "name": "stdout",
     "output_type": "stream",
     "text": [
      "{'end': '++'}\n",
      "*****\n",
      "*****\n",
      "*****\n",
      "*****\n",
      "*****\n",
      "*****\n",
      "*****\n"
     ]
    }
   ],
   "source": [
    "def draw_rectangle(w, h, fill=\"X\", **kwargs):\n",
    "    print(kwargs)\n",
    "    for i in range(w):\n",
    "        for j in range(h):\n",
    "            print(fill, end=\"\")\n",
    "        print()\n",
    "    return\n",
    "\n",
    "draw_rectangle(7, 5, '*', end='++')"
   ]
  },
  {
   "cell_type": "code",
   "execution_count": 50,
   "metadata": {},
   "outputs": [
    {
     "name": "stdout",
     "output_type": "stream",
     "text": [
      "{'name': 'Alexander', 'age': 36, 'specialty': 'Physicist', 'last_name': 'Ts'}\n",
      "Alexander\n",
      "name  ->  Alexander\n",
      "age  ->  36\n",
      "specialty  ->  Physicist\n",
      "last_name  ->  Ts\n"
     ]
    }
   ],
   "source": [
    "def print_student(**kwargs): # (sep, *args, **kwargs)\n",
    "    print(kwargs)\n",
    "    name = kwargs.get('name')\n",
    "    print(name)\n",
    "    for key in kwargs.keys():\n",
    "        print(key,\" -> \" , kwargs.get(key))\n",
    "    return\n",
    "# dict(name=\"Alexander\", age=36)\n",
    "print_student(name=\"Alexander\", age=36, specialty=\"Physicist\", last_name=\"Ts\")"
   ]
  },
  {
   "cell_type": "code",
   "execution_count": 51,
   "metadata": {},
   "outputs": [
    {
     "name": "stdout",
     "output_type": "stream",
     "text": [
      "{'name': 'Alexander', 'age': 36, 'specialty': 'Physicist', 'last_name': 'Ts'}\n"
     ]
    }
   ],
   "source": [
    "d = dict(name=\"Alexander\", age=36, specialty=\"Physicist\", last_name=\"Ts\")\n",
    "print(d)"
   ]
  },
  {
   "cell_type": "code",
   "execution_count": 52,
   "metadata": {},
   "outputs": [
    {
     "name": "stdout",
     "output_type": "stream",
     "text": [
      "{}\n",
      "None\n"
     ]
    }
   ],
   "source": [
    "print_student()"
   ]
  },
  {
   "cell_type": "markdown",
   "metadata": {},
   "source": [
    "### Тонкости использования аргументов\n",
    "**При вызове функции аргументы должны указываться в следующем порядке:**\n",
    "\n",
    "1) любые позиционные аргументы (значения)\n",
    "\n",
    "2) именованные аргументы (name=value)\n",
    "\n",
    "3) аргументы в форме \\*sequence (\\*args)\n",
    "\n",
    "4) аргументы в форме \\**dict. (\\**kwargs)\n",
    "\n",
    "\n",
    "**При описании функции аргументы должны указываться в следующем порядке:**\n",
    "\n",
    "1) любые обычные аргументы (name)\n",
    "\n",
    "2) аргументы со значениями по умолчанию (name=value)\n",
    "\n",
    "3) аргументы в форме *args\n",
    "\n",
    "4) любые имена или пары name=value аргументов, которые передаются только по имени\n",
    "\n",
    "5) аргументы в форме \\**kwargs\n",
    "\n",
    "\n",
    "#### Внимание!!! При нарушении работать не будет."
   ]
  },
  {
   "cell_type": "markdown",
   "metadata": {},
   "source": [
    "### Параметр parametr_1 может быть вызван только по имени, так как все позиционные аргументы будут собраны в arg."
   ]
  },
  {
   "cell_type": "code",
   "execution_count": 53,
   "metadata": {},
   "outputs": [
    {
     "ename": "TypeError",
     "evalue": "some_function() missing 1 required keyword-only argument: 'parametr_1'",
     "output_type": "error",
     "traceback": [
      "\u001b[1;31m---------------------------------------------------------------------------\u001b[0m",
      "\u001b[1;31mTypeError\u001b[0m                                 Traceback (most recent call last)",
      "Cell \u001b[1;32mIn[53], line 4\u001b[0m\n\u001b[0;32m      1\u001b[0m \u001b[38;5;28;01mdef\u001b[39;00m \u001b[38;5;21msome_function\u001b[39m (\u001b[38;5;241m*\u001b[39margs, parametr_1):\n\u001b[0;32m      2\u001b[0m     \u001b[38;5;28;01mreturn\u001b[39;00m parametr_1\n\u001b[1;32m----> 4\u001b[0m \u001b[38;5;28mprint\u001b[39m(\u001b[43msome_function\u001b[49m\u001b[43m(\u001b[49m\u001b[38;5;241;43m1\u001b[39;49m\u001b[43m,\u001b[49m\u001b[43m \u001b[49m\u001b[38;5;241;43m2\u001b[39;49m\u001b[43m)\u001b[49m) \u001b[38;5;66;03m# error\u001b[39;00m\n",
      "\u001b[1;31mTypeError\u001b[0m: some_function() missing 1 required keyword-only argument: 'parametr_1'"
     ]
    }
   ],
   "source": [
    "def some_function (*args, parametr_1):\n",
    "    return parametr_1\n",
    "\n",
    "print(some_function(1, 2)) # error"
   ]
  },
  {
   "cell_type": "code",
   "execution_count": 54,
   "metadata": {},
   "outputs": [
    {
     "name": "stdout",
     "output_type": "stream",
     "text": [
      "2\n"
     ]
    }
   ],
   "source": [
    "print(some_function(1, 4, parametr_1=2))"
   ]
  },
  {
   "cell_type": "markdown",
   "metadata": {},
   "source": [
    "### Распаковка кортежа в ряд фактических параметров\n",
    "При необходимости можно выполнить эту задачу наоборот. Т.е. распаковать кортеж, который используется в качестве\n",
    "фактического параметра, в ряд формальных позиционных параметров."
   ]
  },
  {
   "cell_type": "code",
   "execution_count": 56,
   "metadata": {},
   "outputs": [
    {
     "ename": "TypeError",
     "evalue": "draw_rectangle() takes 3 positional arguments but 4 were given",
     "output_type": "error",
     "traceback": [
      "\u001b[1;31m---------------------------------------------------------------------------\u001b[0m",
      "\u001b[1;31mTypeError\u001b[0m                                 Traceback (most recent call last)",
      "Cell \u001b[1;32mIn[56], line 10\u001b[0m\n\u001b[0;32m      6\u001b[0m     \u001b[38;5;28;01mreturn\u001b[39;00m\n\u001b[0;32m      9\u001b[0m lst \u001b[38;5;241m=\u001b[39m (\u001b[38;5;241m7\u001b[39m, \u001b[38;5;241m5\u001b[39m, \u001b[38;5;124m\"\u001b[39m\u001b[38;5;124m#\u001b[39m\u001b[38;5;124m\"\u001b[39m, \u001b[38;5;241m5\u001b[39m) \u001b[38;5;66;03m# Кортеж который будет распакован в ряд параметров\u001b[39;00m\n\u001b[1;32m---> 10\u001b[0m \u001b[43mdraw_rectangle\u001b[49m\u001b[43m(\u001b[49m\u001b[38;5;241;43m*\u001b[39;49m\u001b[43mlst\u001b[49m\u001b[43m)\u001b[49m \u001b[38;5;66;03m# Распаковка\u001b[39;00m\n",
      "\u001b[1;31mTypeError\u001b[0m: draw_rectangle() takes 3 positional arguments but 4 were given"
     ]
    }
   ],
   "source": [
    "def draw_rectangle(w, h, fill):\n",
    "    for i in range(w):\n",
    "        for j in range(h):\n",
    "            print(fill, end=\"\")\n",
    "        print()\n",
    "    return\n",
    "\n",
    "\n",
    "lst = (7, 5, \"#\") # Кортеж который будет распакован в ряд параметров\n",
    "draw_rectangle(*lst) # Распаковка"
   ]
  },
  {
   "cell_type": "code",
   "execution_count": 57,
   "metadata": {},
   "outputs": [
    {
     "ename": "TypeError",
     "evalue": "draw_rectangle() missing 2 required positional arguments: 'h' and 'fill'",
     "output_type": "error",
     "traceback": [
      "\u001b[1;31m---------------------------------------------------------------------------\u001b[0m",
      "\u001b[1;31mTypeError\u001b[0m                                 Traceback (most recent call last)",
      "Cell \u001b[1;32mIn[57], line 1\u001b[0m\n\u001b[1;32m----> 1\u001b[0m \u001b[43mdraw_rectangle\u001b[49m\u001b[43m(\u001b[49m\u001b[43mlst\u001b[49m\u001b[43m)\u001b[49m\n",
      "\u001b[1;31mTypeError\u001b[0m: draw_rectangle() missing 2 required positional arguments: 'h' and 'fill'"
     ]
    }
   ],
   "source": [
    "draw_rectangle(lst)"
   ]
  },
  {
   "cell_type": "code",
   "execution_count": 58,
   "metadata": {
    "scrolled": true
   },
   "outputs": [
    {
     "name": "stdout",
     "output_type": "stream",
     "text": [
      "@@@@@\n",
      "@@@@@\n",
      "@@@@@\n",
      "@@@@@\n",
      "@@@@@\n",
      "@@@@@\n",
      "@@@@@\n",
      "*****\n",
      "*****\n",
      "*****\n",
      "*****\n",
      "*****\n",
      "*****\n",
      "*****\n"
     ]
    }
   ],
   "source": [
    "# Тоже работает\n",
    "args = 7, 5, \"@\"\n",
    "draw_rectangle(*args)\n",
    "\n",
    "args = [7, 5, \"*\"]\n",
    "draw_rectangle(*args)"
   ]
  },
  {
   "cell_type": "code",
   "execution_count": 59,
   "metadata": {},
   "outputs": [
    {
     "ename": "TypeError",
     "evalue": "draw_rectangle() missing 2 required positional arguments: 'h' and 'fill'",
     "output_type": "error",
     "traceback": [
      "\u001b[1;31m---------------------------------------------------------------------------\u001b[0m",
      "\u001b[1;31mTypeError\u001b[0m                                 Traceback (most recent call last)",
      "Cell \u001b[1;32mIn[59], line 2\u001b[0m\n\u001b[0;32m      1\u001b[0m args \u001b[38;5;241m=\u001b[39m [\u001b[38;5;241m7\u001b[39m, \u001b[38;5;241m5\u001b[39m, \u001b[38;5;124m\"\u001b[39m\u001b[38;5;124m@\u001b[39m\u001b[38;5;124m\"\u001b[39m]  \u001b[38;5;66;03m# TypeError\u001b[39;00m\n\u001b[1;32m----> 2\u001b[0m \u001b[43mdraw_rectangle\u001b[49m\u001b[43m(\u001b[49m\u001b[43margs\u001b[49m\u001b[43m)\u001b[49m\n",
      "\u001b[1;31mTypeError\u001b[0m: draw_rectangle() missing 2 required positional arguments: 'h' and 'fill'"
     ]
    }
   ],
   "source": [
    "args = [7, 5, \"@\"]  # TypeError\n",
    "draw_rectangle(args)"
   ]
  },
  {
   "cell_type": "markdown",
   "metadata": {},
   "source": [
    "### Распаковка словаря в ряд фактических параметров\n",
    "При необходимости можно выполнить распаковку словаря в ряд формальных именованных параметров."
   ]
  },
  {
   "cell_type": "code",
   "execution_count": 62,
   "metadata": {},
   "outputs": [
    {
     "name": "stdout",
     "output_type": "stream",
     "text": [
      "#####\n",
      "#####\n",
      "#####\n",
      "#####\n",
      "#####\n",
      "#####\n",
      "#####\n",
      "#####\n"
     ]
    }
   ],
   "source": [
    "def draw_rectangle(w, h, fill, **kwargs):\n",
    "    for i in range(h):\n",
    "        for j in range(w):\n",
    "            print(fill, end=\"\")\n",
    "        print()\n",
    "    return\n",
    "\n",
    "dct = {\"fill\": \"#\", \"w\": 5, \"h\": 8}\n",
    "draw_rectangle(**dct)"
   ]
  },
  {
   "cell_type": "code",
   "execution_count": 61,
   "metadata": {},
   "outputs": [
    {
     "name": "stdout",
     "output_type": "stream",
     "text": [
      "########\n",
      "########\n",
      "########\n",
      "########\n",
      "########\n"
     ]
    }
   ],
   "source": [
    "dct = {\"fill\": \"#\", \"w\": 5, \"h\": 8, 'j': 234}\n",
    "draw_rectangle(**dct)"
   ]
  },
  {
   "cell_type": "code",
   "execution_count": 63,
   "metadata": {},
   "outputs": [
    {
     "name": "stdout",
     "output_type": "stream",
     "text": [
      "Input w: 5\n",
      "Input h: 5\n",
      "Input fill: ---\n",
      "---------------\n",
      "---------------\n",
      "---------------\n",
      "---------------\n",
      "---------------\n"
     ]
    }
   ],
   "source": [
    "lst = ['w', 'h', 'fill']\n",
    "dct = {}\n",
    "for name in lst:\n",
    "    val = input(f'Input {name}: ')\n",
    "    if name in ['w', 'h']:\n",
    "        val = int(val)\n",
    "    dct[name] = val\n",
    "    \n",
    "draw_rectangle(**dct)"
   ]
  },
  {
   "cell_type": "markdown",
   "metadata": {},
   "source": [
    "### Особенности использования функций\n",
    "На самом деле оператор объявления функции def — выполняет ту же функцию, что и объявление переменной. А именно название функции - это имя переменной, а тело функции - это ее значение. Следовательно, с функциями можно обращаться как с обычными переменными.\n",
    "\n",
    "Функции в Python являются полноправными объектами.\n",
    "Как и любой объект функции могут:\n",
    "* Быть созданы во время выполнения\n",
    "\n",
    "* Могут быть присвоены переменной\n",
    "\n",
    "* Могут быть переданы другой функции как аргументы\n",
    "\n",
    "* Могут быть возвращены функцией в качестве результата"
   ]
  },
  {
   "cell_type": "code",
   "execution_count": 64,
   "metadata": {},
   "outputs": [
    {
     "name": "stdout",
     "output_type": "stream",
     "text": [
      "5\n"
     ]
    }
   ],
   "source": [
    "def add(x, y):\n",
    "    return x + y\n",
    "\n",
    "print(add(2, 3))\n"
   ]
  },
  {
   "cell_type": "code",
   "execution_count": 65,
   "metadata": {},
   "outputs": [
    {
     "name": "stdout",
     "output_type": "stream",
     "text": [
      "5\n"
     ]
    }
   ],
   "source": [
    "a = add # Без скобок!!!\n",
    "print(a(2, 3))\n"
   ]
  },
  {
   "cell_type": "code",
   "execution_count": 66,
   "metadata": {},
   "outputs": [
    {
     "name": "stdout",
     "output_type": "stream",
     "text": [
      "<function add at 0x000001A5B718AF20>\n",
      "<function add at 0x000001A5B718AF20>\n"
     ]
    }
   ],
   "source": [
    "print(add)\n",
    "print(a)"
   ]
  },
  {
   "cell_type": "code",
   "execution_count": 67,
   "metadata": {},
   "outputs": [
    {
     "name": "stdout",
     "output_type": "stream",
     "text": [
      "[<function add at 0x000001A5B718AF20>, <function mul at 0x000001A5B66A2E80>, <function sub at 0x000001A5B66A31A0>]\n"
     ]
    }
   ],
   "source": [
    "def mul(x, y):\n",
    "    return x * y\n",
    "\n",
    "def sub(x, y):\n",
    "    return x - y\n",
    "\n",
    "functions = [add, mul, sub]\n",
    "print(functions)"
   ]
  },
  {
   "cell_type": "code",
   "execution_count": 68,
   "metadata": {
    "scrolled": true
   },
   "outputs": [
    {
     "name": "stdout",
     "output_type": "stream",
     "text": [
      "8\n",
      "12\n",
      "4\n"
     ]
    }
   ],
   "source": [
    "for func in functions:\n",
    "    print(func(6, 2))\n"
   ]
  },
  {
   "cell_type": "markdown",
   "metadata": {},
   "source": [
    "### Пример из реальной жизни\n",
    "https://github.com/olegJF/scraping_service/blob/master/src/run_scraping.py"
   ]
  },
  {
   "cell_type": "markdown",
   "metadata": {},
   "source": [
    "### Функция как параметр для другой функции"
   ]
  },
  {
   "cell_type": "code",
   "execution_count": 69,
   "metadata": {},
   "outputs": [
    {
     "name": "stdout",
     "output_type": "stream",
     "text": [
      "[2, 4, 6, 8]\n"
     ]
    }
   ],
   "source": [
    "def mul(x):\n",
    "    return 2 * x\n",
    "\n",
    "def map_function(number_list, func):\n",
    "    for i in range(len(number_list)):\n",
    "        number_list[i] = func(number_list[i])\n",
    "    return\n",
    "\n",
    "number_list = [1, 2, 3, 4]\n",
    "map_function(number_list, mul) # Функция как параметр для другой функции\n",
    "print (number_list)"
   ]
  },
  {
   "cell_type": "code",
   "execution_count": 70,
   "metadata": {},
   "outputs": [
    {
     "name": "stdout",
     "output_type": "stream",
     "text": [
      "[3, 4, 5, 6]\n"
     ]
    }
   ],
   "source": [
    "def add(x):\n",
    "    return x + 2\n",
    "\n",
    "number_list = [1, 2, 3, 4]\n",
    "map_function(number_list, add)\n",
    "print (number_list)"
   ]
  },
  {
   "cell_type": "code",
   "execution_count": 71,
   "metadata": {},
   "outputs": [],
   "source": [
    "def map_function(_list, func):\n",
    "    tmp = []\n",
    "    for i in _list:\n",
    "        res = func(i)\n",
    "#         if not i % 2:\n",
    "        if res:\n",
    "            tmp.append(i)\n",
    "    return tmp\n",
    "\n",
    "def odd_2(x):\n",
    "    if not x % 2: # x == 0\n",
    "        return True\n",
    "    return False"
   ]
  },
  {
   "cell_type": "code",
   "execution_count": 72,
   "metadata": {},
   "outputs": [
    {
     "name": "stdout",
     "output_type": "stream",
     "text": [
      "[2, 4]\n"
     ]
    }
   ],
   "source": [
    "number_list = [1, 2, 3, 4]\n",
    "new_lst = map_function(number_list, odd_2)\n",
    "print (new_lst)"
   ]
  },
  {
   "cell_type": "code",
   "execution_count": 73,
   "metadata": {},
   "outputs": [],
   "source": [
    "def biggest(i):\n",
    "    if i > 0:\n",
    "        return True\n",
    "    return False"
   ]
  },
  {
   "cell_type": "code",
   "execution_count": 74,
   "metadata": {},
   "outputs": [
    {
     "name": "stdout",
     "output_type": "stream",
     "text": [
      "[1, 2, 4]\n"
     ]
    }
   ],
   "source": [
    "number_list = [1, 2, -3, 4]\n",
    "new_lst = map_function(number_list, biggest)\n",
    "print (new_lst)"
   ]
  },
  {
   "cell_type": "code",
   "execution_count": 75,
   "metadata": {},
   "outputs": [
    {
     "name": "stdout",
     "output_type": "stream",
     "text": [
      "18\n"
     ]
    }
   ],
   "source": [
    "def func (x):\n",
    "    return 2 * x\n",
    "\n",
    "def func(x):\n",
    "    return x * 3\n",
    "\n",
    "print(func(6)) # Почему такой результат?"
   ]
  },
  {
   "cell_type": "markdown",
   "metadata": {},
   "source": [
    "### Создание функций во время выполнения в Runtime"
   ]
  },
  {
   "cell_type": "code",
   "execution_count": 77,
   "metadata": {},
   "outputs": [
    {
     "name": "stdout",
     "output_type": "stream",
     "text": [
      "Put 1 and create function: 1\n",
      "<class 'function'>\n"
     ]
    }
   ],
   "source": [
    "choice = int(input(\"Put 1 and create function: \"))\n",
    "\n",
    "if choice == 1:\n",
    "    def factorial2(n):\n",
    "        if n <= 1:\n",
    "            return 1\n",
    "        else:\n",
    "            return n * factorial(n-1)\n",
    "\n",
    "print(type(factorial2)) # NameError if choice != 1 !!!"
   ]
  },
  {
   "cell_type": "code",
   "execution_count": 78,
   "metadata": {},
   "outputs": [
    {
     "data": {
      "text/plain": [
       "'factorial2'"
      ]
     },
     "execution_count": 78,
     "metadata": {},
     "output_type": "execute_result"
    }
   ],
   "source": [
    "factorial2.__name__"
   ]
  },
  {
   "cell_type": "code",
   "execution_count": 79,
   "metadata": {},
   "outputs": [
    {
     "data": {
      "text/plain": [
       "'__main__'"
      ]
     },
     "execution_count": 79,
     "metadata": {},
     "output_type": "execute_result"
    }
   ],
   "source": [
    "factorial2.__module__"
   ]
  },
  {
   "cell_type": "code",
   "execution_count": 80,
   "metadata": {},
   "outputs": [
    {
     "data": {
      "text/plain": [
       "'math'"
      ]
     },
     "execution_count": 80,
     "metadata": {},
     "output_type": "execute_result"
    }
   ],
   "source": [
    "from math import pow\n",
    "pow.__module__"
   ]
  },
  {
   "cell_type": "markdown",
   "metadata": {},
   "source": [
    "У объекта функции есть ряд атрибутов свойственный всем объектам в Python. Чтобы получить список атрибутов функции, стоит вызвать встроенную функцию *dir()*."
   ]
  },
  {
   "cell_type": "code",
   "execution_count": 83,
   "metadata": {},
   "outputs": [
    {
     "name": "stdout",
     "output_type": "stream",
     "text": [
      "\n",
      "    olol0lo\n",
      "    \n"
     ]
    }
   ],
   "source": [
    "def calculate_sum(a, b):\n",
    "    return a + b\n",
    "\n",
    "print(calculate_sum.__doc__)"
   ]
  },
  {
   "cell_type": "markdown",
   "metadata": {},
   "source": [
    "### Документирование функций\n"
   ]
  },
  {
   "cell_type": "code",
   "execution_count": 85,
   "metadata": {},
   "outputs": [
    {
     "name": "stdout",
     "output_type": "stream",
     "text": [
      "This function calculates the sum of an iterative sequence.\n",
      "    \n"
     ]
    }
   ],
   "source": [
    "def calculate_sum(my_list):\n",
    "    # Строка-документирование\n",
    "    \"\"\"This function calculates the sum of an iterative sequence.\n",
    "    \"\"\"\n",
    "    result = my_list[0]\n",
    "    for i in range(1,len(my_list)):\n",
    "        result = result + my_list[i]\n",
    "    return result\n",
    "\n",
    "print(calculate_sum.__doc__)"
   ]
  },
  {
   "cell_type": "code",
   "execution_count": 86,
   "metadata": {},
   "outputs": [
    {
     "name": "stdout",
     "output_type": "stream",
     "text": [
      "Help on function calculate_sum in module __main__:\n",
      "\n",
      "calculate_sum(my_list)\n",
      "    This function calculates the sum of an iterative sequence.\n",
      "\n"
     ]
    }
   ],
   "source": [
    "help(calculate_sum)"
   ]
  },
  {
   "cell_type": "code",
   "execution_count": 87,
   "metadata": {},
   "outputs": [
    {
     "name": "stdout",
     "output_type": "stream",
     "text": [
      "str(object='') -> str\n",
      "str(bytes_or_buffer[, encoding[, errors]]) -> str\n",
      "\n",
      "Create a new string object from the given object. If encoding or\n",
      "errors is specified, then the object must expose a data buffer\n",
      "that will be decoded using the given encoding and error handler.\n",
      "Otherwise, returns the result of object.__str__() (if defined)\n",
      "or repr(object).\n",
      "encoding defaults to sys.getdefaultencoding().\n",
      "errors defaults to 'strict'.\n"
     ]
    }
   ],
   "source": [
    "print(str.__doc__)"
   ]
  },
  {
   "cell_type": "code",
   "execution_count": 88,
   "metadata": {},
   "outputs": [
    {
     "name": "stdout",
     "output_type": "stream",
     "text": [
      "S.find(sub[, start[, end]]) -> int\n",
      "\n",
      "Return the lowest index in S where substring sub is found,\n",
      "such that sub is contained within S[start:end].  Optional\n",
      "arguments start and end are interpreted as in slice notation.\n",
      "\n",
      "Return -1 on failure.\n"
     ]
    }
   ],
   "source": [
    "print(str.find.__doc__)"
   ]
  },
  {
   "cell_type": "markdown",
   "metadata": {},
   "source": [
    "### Аннотирование типов в функциях"
   ]
  },
  {
   "cell_type": "code",
   "execution_count": 89,
   "metadata": {},
   "outputs": [],
   "source": [
    "def calculate_sum(my_list: list) -> int:\n",
    "\n",
    "    \"\"\"\n",
    "    This function calculates the sum of an iterative sequence.\n",
    "    \"\"\"\n",
    "    result = my_list[0]\n",
    "    for i in range(1,len(my_list)):\n",
    "        result = result + my_list[i]\n",
    "    return result"
   ]
  },
  {
   "cell_type": "code",
   "execution_count": 90,
   "metadata": {},
   "outputs": [
    {
     "name": "stdout",
     "output_type": "stream",
     "text": [
      "9\n"
     ]
    }
   ],
   "source": [
    "lst = [1, 3, 5]\n",
    "print(calculate_sum(lst))"
   ]
  },
  {
   "cell_type": "code",
   "execution_count": 91,
   "metadata": {},
   "outputs": [
    {
     "name": "stdout",
     "output_type": "stream",
     "text": [
      "9\n"
     ]
    }
   ],
   "source": [
    "tpl = tuple([1, 3, 5])\n",
    "print(calculate_sum(tpl)) # no errors (mypy)"
   ]
  },
  {
   "cell_type": "markdown",
   "metadata": {},
   "source": [
    "### *from typing import List, Callable*"
   ]
  },
  {
   "cell_type": "markdown",
   "metadata": {
    "pycharm": {
     "name": "#%% md\n"
    }
   },
   "source": [
    "## Рекурсия"
   ]
  },
  {
   "cell_type": "markdown",
   "metadata": {},
   "source": [
    "В программировании **рекурсия** — вызов функции (процедуры) из нее же самой непосредственно (простая рекурсия) или через другие функции (сложная или косвенная рекурсия).\n",
    "\n",
    "Количество вложенных вызовов функции или процедуры называется\n",
    "глубиной рекурсии. Структурно рекурсивная функция на верхнем уровне всегда представляет собой команду ветвления (выбор одной из двух или более альтернатив в зависимости от условия (условий), которое в данном случае уместно назвать «условием прекращения рекурсии»), имеющей две или более альтернативные ветви, из которых хотя бы одна является\n",
    "**рекурсивной** и хотя бы одна **терминальной**.\n",
    "\n",
    "**Рекурсивная** ветвь выполняется, когда условие прекращения рекурсии ложно, и содержит хотя бы один рекурсивный вызов — прямой или опосредованный вызов функцией самой себя.\n",
    "\n",
    "**Терминальная** ветвь выполняется, когда условие прекращения рекурсии истинно. Она возвращает некоторое значение, не выполняя рекурсивного вызова.\n",
    "\n",
    "Любая задача, которая может быть решена с помощью рекурсивной функции, может быть решена с использованием циклов и наоборот."
   ]
  },
  {
   "cell_type": "code",
   "execution_count": null,
   "metadata": {
    "pycharm": {
     "name": "#%%\n"
    }
   },
   "outputs": [],
   "source": [
    "# рекурсивная функция, которая подсчитает сумму элементов списка без использования циклов\n",
    "def summa (_list, i):\n",
    "    if i == len(_list) - 1:\n",
    "        return _list[i] # Терминальная ветвь когда дойдем до конца списка\n",
    "\n",
    "    else:\n",
    "        return _list[i] + summa(_list, i+1) # Рекурсивная ветвь\n",
    "\n",
    "list_one = [2, 6, 9]\n",
    "\n",
    "print(summa(list_one, 0))\n",
    "\n",
    "# number_list[0] + summa(number_list, 1) +  summa(number_list, 2)"
   ]
  },
  {
   "cell_type": "code",
   "execution_count": null,
   "metadata": {
    "pycharm": {
     "name": "#%%\n"
    }
   },
   "outputs": [],
   "source": [
    "# Числа Фибоначчи – это ряд чисел, в котором каждое следующее число равно сумме двух предыдущих: 1, 1, 2, 3, 5, 8, 13\n",
    "def fibo(n):\n",
    "    a = 0\n",
    "    b = 1\n",
    "    for i in range(2, n + 1):\n",
    "        a, b = b, a + b\n",
    "    return b\n",
    "\n",
    "print(fibo(10))"
   ]
  },
  {
   "cell_type": "code",
   "execution_count": null,
   "metadata": {
    "pycharm": {
     "name": "#%%\n"
    }
   },
   "outputs": [],
   "source": [
    "def fibonacci(n):\n",
    "    print(n)\n",
    "    if n in (1, 2):\n",
    "        return 1\n",
    "    return fibonacci(n - 1) + fibonacci(n - 2)\n",
    "\n",
    "print(fibonacci(10))\n"
   ]
  },
  {
   "cell_type": "markdown",
   "metadata": {
    "pycharm": {
     "name": "#%% md\n"
    }
   },
   "source": [
    "### Анонимные функции в Python\n",
    "В Python анонимные функции реализованы в виде **lambda** функций. Для этого используется синтаксис вида:\n",
    "\n",
    "*lambda parameter: result*\n",
    "\n",
    "*lambda* — ключевое слово\n",
    "\n",
    "*parameter* — параметр функции\n",
    "\n",
    "*result* — возвращаемое значение\n",
    "\n",
    "В Python тело лямбда функции может быть только чистым выражением. Т.е. нельзя производить присваивание или\n",
    "использование циклов."
   ]
  },
  {
   "cell_type": "code",
   "execution_count": null,
   "metadata": {
    "pycharm": {
     "name": "#%%\n"
    }
   },
   "outputs": [],
   "source": [
    "def my_filter( _sequence, predicate):\n",
    "    result = []\n",
    "    for element in _sequence:\n",
    "        if predicate(element):\n",
    "            result.append(element)\n",
    "    return result\n",
    "\n",
    "sequence = [0, 7, 4, 11, -4, 17, 24, 3]\n",
    "\n",
    "b = my_filter(sequence, lambda x: x > 0)\n",
    "print(b)\n"
   ]
  },
  {
   "cell_type": "code",
   "execution_count": null,
   "metadata": {
    "pycharm": {
     "name": "#%%\n"
    }
   },
   "outputs": [],
   "source": [
    "c = my_filter(sequence, lambda x: x % 2)\n",
    "print(c)"
   ]
  },
  {
   "cell_type": "code",
   "execution_count": null,
   "metadata": {
    "pycharm": {
     "name": "#%%\n"
    }
   },
   "outputs": [],
   "source": [
    "c = my_filter(sequence, lambda x: not x % 2)\n",
    "print(c)"
   ]
  },
  {
   "cell_type": "code",
   "execution_count": null,
   "metadata": {
    "pycharm": {
     "name": "#%%\n"
    }
   },
   "outputs": [],
   "source": [
    "# лямбда функции компилируются так же как и обычные функции\n",
    "\n",
    "g = lambda x: x**2\n",
    "print(type(g))"
   ]
  },
  {
   "cell_type": "code",
   "execution_count": null,
   "metadata": {
    "pycharm": {
     "name": "#%%\n"
    }
   },
   "outputs": [],
   "source": [
    "g(3)\n"
   ]
  },
  {
   "cell_type": "code",
   "execution_count": null,
   "metadata": {
    "pycharm": {
     "name": "#%%\n"
    }
   },
   "outputs": [],
   "source": [
    "q = lambda x, y: x**2 + y if y <= 5 else x**3 + y"
   ]
  },
  {
   "cell_type": "code",
   "execution_count": null,
   "metadata": {
    "pycharm": {
     "name": "#%%\n"
    }
   },
   "outputs": [],
   "source": [
    "q(3, 5)"
   ]
  },
  {
   "cell_type": "code",
   "execution_count": null,
   "metadata": {
    "pycharm": {
     "name": "#%%\n"
    }
   },
   "outputs": [],
   "source": [
    "q(3, 6)\n"
   ]
  },
  {
   "cell_type": "markdown",
   "metadata": {
    "pycharm": {
     "name": "#%% md\n"
    }
   },
   "source": [
    "### map()\n",
    "**map()** — это встроенная функция, которая позволяет обрабатывать и преобразовывать\n",
    " все элементы в итерируемом объекте без использования явного цикла for,\n",
    " метода, широко известного как сопоставление (mapping). map() полезен,\n",
    " когда вам нужно применить функцию преобразования к каждому элементу в\n",
    " коллекции или в массиве и преобразовать их в новый массив.\n",
    "\n",
    "**map()** — один из инструментов, поддерживающих стиль ***функционального\n",
    "программирования*** в Python."
   ]
  },
  {
   "cell_type": "markdown",
   "metadata": {},
   "source": [
    "В ***функциональном программировании*** вычисления выполняются путем объединения\n",
    "функций, которые принимают аргументы и возвращают конкретное значение\n",
    "(или значения). Эти функции не изменяют свои входные аргументы и\n",
    "не изменяют состояние программы. Они просто предоставляют результат\n",
    "данного вычисления. Такие функции обычно называются чистыми функциями\n",
    "(pure functions)."
   ]
  },
  {
   "cell_type": "markdown",
   "metadata": {},
   "source": [
    "#### Что такое map()\n",
    "\n",
    "**map()** перебирает элементы итерируемого массива (или коллекции) и возвращает\n",
    "новый массив (или итерируемый объект), который является результатом\n",
    "применения функции преобразования к каждому элементу исходного итерабельного массива.\n",
    "\n",
    "Согласно документации, **map()** принимает функцию и итерацию\n",
    "(или несколько итераций) в качестве аргументов и возвращает итератор,\n",
    "который выдает преобразованные элементы по запросу. Сигнатура функции map\n",
    "определяется следующим образом:\n",
    "\n",
    "`map(function, iterable[, iterable1, iterable2,..., iterableN])`\n",
    "\n",
    "map() применяет функцию к каждому элементу в итерируемом цикле и\n",
    "возвращает новый итератор, который по запросу возвращает преобразованные\n",
    "элементы. **function** может быть любая функция Python, которая принимает\n",
    "аргументы, равное количеству итераций, которые вы передаете map().\n",
    "\n",
    "***Примечание***. Первый аргумент map() — это объект функция, что\n",
    "означает, что вам нужно передать функцию, не вызывая ее. То есть без пары скобок."
   ]
  },
  {
   "cell_type": "code",
   "execution_count": null,
   "metadata": {
    "pycharm": {
     "name": "#%%\n"
    }
   },
   "outputs": [],
   "source": [
    "# предположим, что вам нужно взять список числовых значений и\n",
    "# преобразовать его в список, содержащий квадратное значение каждого числа в\n",
    "# исходном списке. В этом случае вы можете использовать цикл for и написать\n",
    "# что-то вроде этого\n",
    "numbers = [1, 2, 3, 4, 5]\n",
    "squared = []\n",
    "\n",
    "for num in numbers:\n",
    "    squared.append(num ** 2)\n",
    "\n",
    "print(squared)"
   ]
  },
  {
   "cell_type": "code",
   "execution_count": null,
   "metadata": {
    "pycharm": {
     "name": "#%%\n"
    }
   },
   "outputs": [],
   "source": [
    "# можете добиться того же результата без использования явного цикла for, используя map().\n",
    "def square(number):\n",
    "    return number ** 2\n",
    "\n",
    "numbers = [1, 2, 3, 4, 5]\n",
    "squared = map(square, numbers)\n",
    "list(squared)\n",
    "# print(squared)"
   ]
  },
  {
   "cell_type": "markdown",
   "metadata": {},
   "source": [
    "С помощью цикла **for** вам нужно сохранить весь список в памяти вашей системы.\n",
    "С помощью **map()** вы получаете элементы по запросу, и только один элемент находится в памяти вашей системы в данный момент.\n"
   ]
  },
  {
   "cell_type": "code",
   "execution_count": null,
   "metadata": {
    "pycharm": {
     "name": "#%%\n"
    }
   },
   "outputs": [],
   "source": [
    "# нужно преобразовать все элементы в списке из строки в целое число.\n",
    "str_nums = [\"4\", \"8\", \"6\", \"5\", \"3\", \"2\", \"8\", \"9\", \"2\", \"5\"]\n",
    "int_nums = map(int, str_nums) # map() применяет int() к каждому значению в str_nums."
   ]
  },
  {
   "cell_type": "code",
   "execution_count": null,
   "metadata": {
    "pycharm": {
     "name": "#%%\n"
    }
   },
   "outputs": [],
   "source": [
    "next(int_nums) # генератор"
   ]
  },
  {
   "cell_type": "code",
   "execution_count": null,
   "metadata": {
    "pycharm": {
     "name": "#%%\n"
    }
   },
   "outputs": [],
   "source": [
    "list(int_nums)"
   ]
  },
  {
   "cell_type": "code",
   "execution_count": null,
   "metadata": {
    "pycharm": {
     "name": "#%%\n"
    }
   },
   "outputs": [],
   "source": [
    "str_nums\n"
   ]
  },
  {
   "cell_type": "code",
   "execution_count": null,
   "metadata": {
    "pycharm": {
     "name": "#%%\n"
    }
   },
   "outputs": [],
   "source": [
    "numbers = [-2, -1, 0, 1, 2]\n",
    "abs_values = list(map(abs, numbers))\n",
    "abs_values"
   ]
  },
  {
   "cell_type": "code",
   "execution_count": null,
   "metadata": {
    "pycharm": {
     "name": "#%%\n"
    }
   },
   "outputs": [],
   "source": [
    "list(map(float, numbers))"
   ]
  },
  {
   "cell_type": "code",
   "execution_count": null,
   "metadata": {
    "pycharm": {
     "name": "#%%\n"
    },
    "scrolled": true
   },
   "outputs": [],
   "source": [
    "words = [\"Welcome\", \"to\", \"Real\", \"Python\"]\n",
    "list(map(len, words))"
   ]
  },
  {
   "cell_type": "code",
   "execution_count": null,
   "metadata": {
    "pycharm": {
     "name": "#%%\n"
    }
   },
   "outputs": [],
   "source": [
    "# реализовать пример квадратных значений с помощью лямбда-функции\n",
    "numbers = [1, 2, 3, 4, 5]\n",
    "squared = map(lambda num: num ** 5, numbers)\n",
    "list(squared)"
   ]
  },
  {
   "cell_type": "markdown",
   "metadata": {
    "pycharm": {
     "name": "#%% md\n"
    }
   },
   "source": [
    "#### Обработка множественных итераций с помощью map()"
   ]
  },
  {
   "cell_type": "code",
   "execution_count": null,
   "metadata": {
    "pycharm": {
     "name": "#%%\n"
    }
   },
   "outputs": [],
   "source": [
    "\n",
    "first_it = [1, 2, 3]\n",
    "second_it = [4, 5, 6, 7]\n",
    "list(map(pow, first_it, second_it))\n"
   ]
  },
  {
   "cell_type": "code",
   "execution_count": null,
   "metadata": {
    "pycharm": {
     "name": "#%%\n"
    }
   },
   "outputs": [],
   "source": [
    "\n",
    "# pow() принимает два аргумента, x и y, и возвращает x в степени y.\n",
    "# На первой итерации x будет 1, y будет 4, а результат будет 1\n",
    "first_it = [1, 2, 3]\n",
    "second_it = [4, 5, 6, 7]\n",
    "list(map(pow, second_it, first_it))\n"
   ]
  },
  {
   "cell_type": "code",
   "execution_count": null,
   "metadata": {
    "pycharm": {
     "name": "#%%\n"
    },
    "scrolled": true
   },
   "outputs": [],
   "source": [
    "list(map(lambda x, y: x - y, [9, 4, 2], [1, 3, 5]))\n"
   ]
  },
  {
   "cell_type": "code",
   "execution_count": null,
   "metadata": {
    "pycharm": {
     "name": "#%%\n"
    }
   },
   "outputs": [],
   "source": [
    "list(map(lambda x, y, z: x + y + z, [2, 4], [1, 3], [7, 8]))"
   ]
  },
  {
   "cell_type": "markdown",
   "metadata": {
    "pycharm": {
     "name": "#%% md\n"
    }
   },
   "source": [
    "### map() и filter()"
   ]
  },
  {
   "cell_type": "markdown",
   "metadata": {
    "pycharm": {
     "name": "#%% md\n"
    }
   },
   "source": [
    "\n",
    "Иногда нужно обработать массив и вернуть другой массив, которая является\n",
    "результатом фильтрации нежелательных значений во входной итерации.\n",
    "В этом случае может подойти filter().\n",
    "**filter()** — это встроенная функция, которая принимает два позиционных аргумента:\n",
    "\n",
    "***function*** будет предикатом или функцией с логическим значением, функцией,\n",
    "которая возвращает True или False в соответствии с входными данными.\n",
    "\n",
    "***iterable*** будет любым итерабельным объектом Python.\n",
    "\n",
    "**filter()** возвращает элементы итерации, для которых функция возвращает True.\n",
    "Если вы передадите None в функцию, тогда filter() будет использовать\n",
    "функцию идентификации. Это означает, что filter() проверяет значение\n",
    "истинности каждого элемента в итерации и отфильтровывает все элементы,\n",
    "которые являются ложными."
   ]
  },
  {
   "cell_type": "code",
   "execution_count": null,
   "metadata": {
    "pycharm": {
     "name": "#%%\n"
    }
   },
   "outputs": [],
   "source": [
    "# нужно вычислить квадратный корень из всех значений в списке.\n",
    "# Поскольку ваш список может содержать отрицательные значения,\n",
    "# вы получите сообщение об ошибке, потому что квадратный корень не\n",
    "# определен для отрицательных чисел\n",
    "\n",
    "import math\n",
    "math.sqrt(-16) # ValueError"
   ]
  },
  {
   "cell_type": "markdown",
   "metadata": {},
   "source": [
    "`is_positive()` — это функция-предикат, которая принимает число в качестве\n",
    "аргумента и возвращает **True**, если число больше или равно нулю.\n",
    "Вы можете передать `is_positive()` в `filter()`, чтобы удалить все отрицательные\n",
    "числа. Таким образом, вызов `map()` будет обрабатывать только положительные числа,\n",
    "а `math.sqrt()` не выдаст вам **ValueError**."
   ]
  },
  {
   "cell_type": "code",
   "execution_count": null,
   "metadata": {
    "pycharm": {
     "name": "#%%\n"
    }
   },
   "outputs": [],
   "source": [
    "import math\n",
    "def is_positive(num):\n",
    "    return num >= 0\n",
    "\n",
    "def sanitized_sqrt(numbers):\n",
    "    cleaned_iter = map(math.sqrt, filter(is_positive, numbers))\n",
    "    return list(cleaned_iter)\n",
    "\n",
    "sanitized_sqrt([25, 9, 81, -16, 0])"
   ]
  },
  {
   "cell_type": "code",
   "execution_count": null,
   "metadata": {
    "pycharm": {
     "name": "#%%\n"
    }
   },
   "outputs": [],
   "source": [
    "#  Ещё одна встроенная функция - zip\n",
    "for i in zip([11, 12, 13],['j','k','l', 't'], [1, 3, 5]):\n",
    "            print(i)"
   ]
  },
  {
   "cell_type": "markdown",
   "metadata": {},
   "source": [
    "#### Золотоискатель"
   ]
  },
  {
   "cell_type": "code",
   "execution_count": null,
   "metadata": {},
   "outputs": [],
   "source": [
    "hill = [[7],\n",
    "        [5, 8],\n",
    "        [9, 8, 2],\n",
    "        [1, 3, 5, 6],\n",
    "        [6, 2, 4, 4, 5],\n",
    "        [9, 5, 3, 5, 5, 7],\n",
    "        [7, 4, 6, 4, 7, 6, 8]]"
   ]
  },
  {
   "cell_type": "code",
   "execution_count": null,
   "metadata": {},
   "outputs": [],
   "source": [
    "\n",
    "def gold(arr):\n",
    "    for i in range(len(arr) - 1, 0, -1):\n",
    "        for y in range(len(arr[i]) - 1, 0, -1):\n",
    "            a = arr[i][y] + arr[i-1][y - 1]\n",
    "            b = arr[i][y - 1] + arr[i-1][y - 1]\n",
    "            arr[i - 1][y - 1] = max(a, b)\n",
    "    for ar in arr:\n",
    "        print(ar)\n",
    "\n",
    "gold(hill)\n"
   ]
  },
  {
   "cell_type": "code",
   "execution_count": null,
   "metadata": {},
   "outputs": [],
   "source": [
    "asds"
   ]
  },
  {
   "cell_type": "code",
   "execution_count": null,
   "metadata": {},
   "outputs": [],
   "source": []
  }
 ],
 "metadata": {
  "kernelspec": {
   "display_name": "Python 3 (ipykernel)",
   "language": "python",
   "name": "python3"
  },
  "language_info": {
   "codemirror_mode": {
    "name": "ipython",
    "version": 3
   },
   "file_extension": ".py",
   "mimetype": "text/x-python",
   "name": "python",
   "nbconvert_exporter": "python",
   "pygments_lexer": "ipython3",
   "version": "3.11.7"
  }
 },
 "nbformat": 4,
 "nbformat_minor": 2
}
